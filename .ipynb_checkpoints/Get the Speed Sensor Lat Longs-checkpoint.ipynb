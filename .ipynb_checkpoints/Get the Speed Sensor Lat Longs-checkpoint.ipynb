{
 "cells": [
  {
   "cell_type": "markdown",
   "metadata": {},
   "source": [
    "# Use BeautifulSoup to get Coordinates of Speed Sensors"
   ]
  },
  {
   "cell_type": "code",
   "execution_count": 7,
   "metadata": {},
   "outputs": [],
   "source": [
    "from bs4 import BeautifulSoup\n",
    "import os\n",
    "import pandas as pd"
   ]
  },
  {
   "cell_type": "code",
   "execution_count": 1,
   "metadata": {},
   "outputs": [
    {
     "data": {
      "text/plain": [
       "['Speed Sensor-1327',\n",
       " 'Speed Sensor-1342',\n",
       " 'Speed Sensor-396',\n",
       " 'Speed Sensor-3911',\n",
       " 'Speed Sensor-2146',\n",
       " 'Speed Sensor-2319',\n",
       " 'Speed Sensor-1839',\n",
       " 'Speed Sensor-3482',\n",
       " 'Speed Sensor-382']"
      ]
     },
     "execution_count": 1,
     "metadata": {},
     "output_type": "execute_result"
    }
   ],
   "source": [
    "SensorIDs = [1327, 1342, 396, 3911, 2146, 2319, 1839, 3482, 382]\n",
    "SensorIDsCorNm = ['Speed Sensor-{}'.format(x) for x in SensorIDs]\n",
    "SensorIDsCorNm"
   ]
  },
  {
   "cell_type": "code",
   "execution_count": 5,
   "metadata": {},
   "outputs": [],
   "source": [
    "kml_file = os.path.join(r'C:\\Users\\abibeka\\OneDrive - Kittelson & Associates, Inc\\Documents\\CVPD\\I80_Laramie-to-Cheyenne_Feb_2018\\WYDOT_SignSensorMAP_WithSegments&Gates.kml')\n",
    "with open(kml_file) as fp:\n",
    "    soup = BeautifulSoup(fp,features='lxml')"
   ]
  },
  {
   "cell_type": "code",
   "execution_count": 10,
   "metadata": {},
   "outputs": [
    {
     "name": "stdout",
     "output_type": "stream",
     "text": [
      "Speed Sensor-1327 41.44391 -105.96128\n",
      "Speed Sensor-1342 41.39502 -105.82406\n",
      "Speed Sensor-1839 41.116867 -104.904434\n",
      "Speed Sensor-2146 41.246296 -105.44119\n",
      "Speed Sensor-2319 41.109592 -104.97488\n",
      "Speed Sensor-3911 41.26491 -105.46618\n",
      "Speed Sensor-396 41.27991 -105.51699\n",
      "Speed Sensor-3482 41.15932 -104.60588\n",
      "Speed Sensor-382 41.172596 -104.08316\n",
      "Speed Sensor-2146 41.246296 -105.44119\n",
      "Speed Sensor-3911 41.26491 -105.46618\n",
      "Speed Sensor-396 41.27991 -105.51699\n"
     ]
    }
   ],
   "source": [
    "DatLaLong = pd.DataFrame()\n",
    "for item in soup.find_all('placemark'):\n",
    "    Name =item.find('name').string\n",
    "    #Long = item.lookat.longitude.string\n",
    "    #Lat = item.lookat.latitude.string\n",
    "    Long,Lat= item.coordinates.string.split(',')[:2]\n",
    "    tempDa = pd.DataFrame({'Name': [Name],'Lat': [Lat],'Long': [Long]})\n",
    "    if Name in SensorIDsCorNm:\n",
    "        DatLaLong= pd.concat([DatLaLong,tempDa])\n",
    "        print(Name,Lat,Long)"
   ]
  },
  {
   "cell_type": "code",
   "execution_count": 13,
   "metadata": {},
   "outputs": [],
   "source": [
    "DatLaLong.reset_index(drop = True,inplace=True)"
   ]
  },
  {
   "cell_type": "code",
   "execution_count": 14,
   "metadata": {},
   "outputs": [],
   "source": [
    "outFi = os.path.join(r'C:\\Users\\abibeka\\OneDrive - Kittelson & Associates, Inc\\Documents\\CVPD\\I80_Laramie-to-Cheyenne_Feb_2018\\SensorLoc.csv')\n",
    "DatLaLong.to_csv(outFi)\n"
   ]
  },
  {
   "cell_type": "code",
   "execution_count": null,
   "metadata": {},
   "outputs": [],
   "source": []
  }
 ],
 "metadata": {
  "kernelspec": {
   "display_name": "Python 3",
   "language": "python",
   "name": "python3"
  },
  "language_info": {
   "codemirror_mode": {
    "name": "ipython",
    "version": 3
   },
   "file_extension": ".py",
   "mimetype": "text/x-python",
   "name": "python",
   "nbconvert_exporter": "python",
   "pygments_lexer": "ipython3",
   "version": "3.6.8"
  }
 },
 "nbformat": 4,
 "nbformat_minor": 2
}
