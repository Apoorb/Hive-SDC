{
 "cells": [
  {
   "cell_type": "markdown",
   "metadata": {},
   "source": [
    "# Get 5 min volume for Feb 2018 from Unprocessed Speed"
   ]
  },
  {
   "cell_type": "markdown",
   "metadata": {},
   "source": [
    "    Created by: Apoorba Bibeka\n",
    "    Date: March 20, 2019"
   ]
  },
  {
   "cell_type": "markdown",
   "metadata": {},
   "source": [
    "## Import required modules"
   ]
  },
  {
   "cell_type": "code",
   "execution_count": 33,
   "metadata": {},
   "outputs": [],
   "source": [
    "import getpass\n",
    "import boto3\n",
    "import pandas as pd\n",
    "from impala.dbapi import connect\n",
    "from impala.util import as_pandas\n",
    "from io import BytesIO as StringIO"
   ]
  },
  {
   "cell_type": "markdown",
   "metadata": {},
   "source": [
    "## Connect to the database"
   ]
  },
  {
   "cell_type": "code",
   "execution_count": 2,
   "metadata": {},
   "outputs": [
    {
     "name": "stdout",
     "output_type": "stream",
     "text": [
      "········\n"
     ]
    }
   ],
   "source": [
    "username = \"abibeka@securedatacommons.com\"\n",
    "password1 = getpass.getpass()"
   ]
  },
  {
   "cell_type": "code",
   "execution_count": 3,
   "metadata": {},
   "outputs": [],
   "source": [
    "conn = connect(host=\"172.18.1.20\",auth_mechanism='PLAIN',port=10000,user=username, password=password1)"
   ]
  },
  {
   "cell_type": "code",
   "execution_count": null,
   "metadata": {},
   "outputs": [],
   "source": []
  },
  {
   "cell_type": "markdown",
   "metadata": {},
   "source": [
    "## Look at the device ids from \"wydot_speed_sensors_index\""
   ]
  },
  {
   "cell_type": "code",
   "execution_count": 4,
   "metadata": {},
   "outputs": [
    {
     "name": "stdout",
     "output_type": "stream",
     "text": [
      "(array([ 382,  383,  393,  394,  395,  396,  398,  400,  405,  407,  408,\n",
      "        411,  384,  482, 1075, 1084, 1100, 1134, 1145, 1153, 1167, 1219,\n",
      "       1231,  385, 1241, 1251, 1258, 1269, 1280, 1327, 1342, 1837, 1838,\n",
      "       1839,  386, 2020, 2032, 2049, 2070, 2079, 2090, 2146, 2147, 2178,\n",
      "       2191,  387, 2202, 2213, 2246, 2263, 2274, 2289, 2298, 2310, 2319,\n",
      "       2334,  388, 2346, 2359, 2372, 2383, 2395, 2409, 2421, 2433, 2445,\n",
      "       2578,  389, 2607, 2609, 2916, 3236, 3243, 3249, 3296, 3402, 3482,\n",
      "       3654,  390, 3897, 3899, 3901, 3903, 3905, 3907, 3909, 3911,  391],\n",
      "      dtype=int64), Index([u'deviceid', u'lat_decimal', u'long_decimal', u'road_code', u'sitename',\n",
      "       u'devicename', u'sensortype', u'public_route', u'gis_route',\n",
      "       u'direction', u'milepost', u'sensor_loc', u'nearest_rwis', u'rwis',\n",
      "       u'backup_rwis', u'2015_adt', u'vsl_id', u'eb_vsl', u'wb_vsl',\n",
      "       u'horiz_d', u'horiz_i', u'vert_i', u'vert_d', u'notes'],\n",
      "      dtype='object'))\n"
     ]
    }
   ],
   "source": [
    "cursor = conn.cursor()\n",
    "cursor.execute('select * from wydot_speed_sensors_index')\n",
    "SSindex = as_pandas(cursor)\n",
    "Rename1 ={x:x.split('wydot_speed_sensors_index.')[1] for x in SSindex}\n",
    "SSindex=SSindex.rename(index=str,columns=Rename1)\n",
    "print(SSindex['deviceid'].values,SSindex.columns)"
   ]
  },
  {
   "cell_type": "markdown",
   "metadata": {},
   "source": [
    "### Subset data for Lamarie & Cheyenne"
   ]
  },
  {
   "cell_type": "code",
   "execution_count": null,
   "metadata": {},
   "outputs": [],
   "source": [
    "SS2index=SSindex.loc[(SSindex['milepost']>=314)&(SSindex['milepost']<=360)]\n",
    "SS2index = SS2index[[\"deviceid\",\"milepost\",\"direction\",\"2015_adt\"]].copy()\n",
    "print(SS2index['deviceid'].values)"
   ]
  },
  {
   "cell_type": "markdown",
   "metadata": {},
   "source": [
    "## Get the index Data (314 <= Milepost <=360) from S3 bucket (Source: WyDoT Report)"
   ]
  },
  {
   "cell_type": "code",
   "execution_count": 17,
   "metadata": {},
   "outputs": [
    {
     "data": {
      "text/html": [
       "<div>\n",
       "<style scoped>\n",
       "    .dataframe tbody tr th:only-of-type {\n",
       "        vertical-align: middle;\n",
       "    }\n",
       "\n",
       "    .dataframe tbody tr th {\n",
       "        vertical-align: top;\n",
       "    }\n",
       "\n",
       "    .dataframe thead th {\n",
       "        text-align: right;\n",
       "    }\n",
       "</style>\n",
       "<table border=\"1\" class=\"dataframe\">\n",
       "  <thead>\n",
       "    <tr style=\"text-align: right;\">\n",
       "      <th></th>\n",
       "      <th>DEVICEID</th>\n",
       "      <th>SITENAME</th>\n",
       "      <th>MP</th>\n",
       "      <th>Sensor_Loc</th>\n",
       "    </tr>\n",
       "  </thead>\n",
       "  <tbody>\n",
       "    <tr>\n",
       "      <th>0</th>\n",
       "      <td>396</td>\n",
       "      <td>Laramie East</td>\n",
       "      <td>317.68</td>\n",
       "      <td>EB</td>\n",
       "    </tr>\n",
       "    <tr>\n",
       "      <th>1</th>\n",
       "      <td>3911</td>\n",
       "      <td>Telephone Canyon</td>\n",
       "      <td>320.70</td>\n",
       "      <td>WB</td>\n",
       "    </tr>\n",
       "    <tr>\n",
       "      <th>2</th>\n",
       "      <td>395</td>\n",
       "      <td>Summit</td>\n",
       "      <td>322.05</td>\n",
       "      <td>WB</td>\n",
       "    </tr>\n",
       "    <tr>\n",
       "      <th>3</th>\n",
       "      <td>2146</td>\n",
       "      <td>Summit</td>\n",
       "      <td>322.60</td>\n",
       "      <td>WB</td>\n",
       "    </tr>\n",
       "    <tr>\n",
       "      <th>4</th>\n",
       "      <td>2147</td>\n",
       "      <td>Summit</td>\n",
       "      <td>323.85</td>\n",
       "      <td>EB</td>\n",
       "    </tr>\n",
       "  </tbody>\n",
       "</table>\n",
       "</div>"
      ],
      "text/plain": [
       "   DEVICEID          SITENAME      MP Sensor_Loc\n",
       "0       396      Laramie East  317.68         EB\n",
       "1      3911  Telephone Canyon  320.70         WB\n",
       "2       395            Summit  322.05         WB\n",
       "3      2146            Summit  322.60         WB\n",
       "4      2147            Summit  323.85         EB"
      ]
     },
     "execution_count": 17,
     "metadata": {},
     "output_type": "execute_result"
    }
   ],
   "source": [
    "#Data I got from a Report\n",
    "client=boto3.client('s3')\n",
    "obj=client.get_object(Bucket='prod-sdc-tti-911061262852-us-east-1-bucket',Key=\"abibeka/uploaded_files/SpeedSen_MP_314_360.csv\")\n",
    "AB_SS=pd.read_csv(obj['Body'])\n",
    "AB_SS.head()"
   ]
  },
  {
   "cell_type": "markdown",
   "metadata": {},
   "source": [
    "## Compare index from WyDOT Report and Database"
   ]
  },
  {
   "cell_type": "code",
   "execution_count": 8,
   "metadata": {},
   "outputs": [
    {
     "name": "stdout",
     "output_type": "stream",
     "text": [
      "set([])\n",
      "set([384, 385, 386, 387, 388, 389, 2310, 391, 393, 394, 395, 396, 2178, 2191, 2202, 3654, 1839, 2246, 3911, 2146, 2263, 2319, 390, 2213, 2274, 2147, 2289, 2298, 383])\n"
     ]
    }
   ],
   "source": [
    "# Return set with elements in either the set or ohter but not both\n",
    "print(set(AB_SS['DEVICEID'].values) ^ set(SS2index['deviceid'].values))\n",
    "# Return intersection \n",
    "print(set(AB_SS['DEVICEID'].values) & set(SS2index['deviceid'].values))"
   ]
  },
  {
   "cell_type": "markdown",
   "metadata": {},
   "source": [
    "## Get relevant columns and Rows from the Index Data"
   ]
  },
  {
   "cell_type": "code",
   "execution_count": 18,
   "metadata": {},
   "outputs": [
    {
     "data": {
      "text/html": [
       "<div>\n",
       "<style scoped>\n",
       "    .dataframe tbody tr th:only-of-type {\n",
       "        vertical-align: middle;\n",
       "    }\n",
       "\n",
       "    .dataframe tbody tr th {\n",
       "        vertical-align: top;\n",
       "    }\n",
       "\n",
       "    .dataframe thead th {\n",
       "        text-align: right;\n",
       "    }\n",
       "</style>\n",
       "<table border=\"1\" class=\"dataframe\">\n",
       "  <thead>\n",
       "    <tr style=\"text-align: right;\">\n",
       "      <th></th>\n",
       "      <th>deviceid</th>\n",
       "      <th>milepost</th>\n",
       "      <th>direction</th>\n",
       "      <th>2015_adt</th>\n",
       "    </tr>\n",
       "  </thead>\n",
       "  <tbody>\n",
       "    <tr>\n",
       "      <th>0</th>\n",
       "      <td>396</td>\n",
       "      <td>317.68</td>\n",
       "      <td>B</td>\n",
       "      <td>13890</td>\n",
       "    </tr>\n",
       "    <tr>\n",
       "      <th>1</th>\n",
       "      <td>3654</td>\n",
       "      <td>318.50</td>\n",
       "      <td>D</td>\n",
       "      <td>13890</td>\n",
       "    </tr>\n",
       "    <tr>\n",
       "      <th>2</th>\n",
       "      <td>3911</td>\n",
       "      <td>320.70</td>\n",
       "      <td>B</td>\n",
       "      <td>13890</td>\n",
       "    </tr>\n",
       "    <tr>\n",
       "      <th>3</th>\n",
       "      <td>395</td>\n",
       "      <td>322.05</td>\n",
       "      <td>B</td>\n",
       "      <td>13890</td>\n",
       "    </tr>\n",
       "    <tr>\n",
       "      <th>4</th>\n",
       "      <td>2146</td>\n",
       "      <td>322.60</td>\n",
       "      <td>B</td>\n",
       "      <td>13890</td>\n",
       "    </tr>\n",
       "  </tbody>\n",
       "</table>\n",
       "</div>"
      ],
      "text/plain": [
       "   deviceid  milepost direction  2015_adt\n",
       "0       396    317.68         B     13890\n",
       "1      3654    318.50         D     13890\n",
       "2      3911    320.70         B     13890\n",
       "3       395    322.05         B     13890\n",
       "4      2146    322.60         B     13890"
      ]
     },
     "execution_count": 18,
     "metadata": {},
     "output_type": "execute_result"
    }
   ],
   "source": [
    "SS2index=SS2index.sort_values(by=\"milepost\")\n",
    "SS2index=SS2index.reset_index(drop=True)\n",
    "SS2index.head()"
   ]
  },
  {
   "cell_type": "markdown",
   "metadata": {},
   "source": [
    "## Initial Approach to get Volume Data (Not good - Can Aggregate Directly on Hive)"
   ]
  },
  {
   "cell_type": "code",
   "execution_count": 11,
   "metadata": {},
   "outputs": [],
   "source": [
    "#create_query='''SELECT t1.controller, t1.mountain, t2.direction, t2.milepost, t2.2015_adt FROM \n",
    "#(SELECT * FROM wydot_speed_unprocessed WHERE mountain between '2018-02-01' AND '2018-02-28') t1\n",
    "#JOIN wydot_speed_sensors_index t2 \n",
    "#ON (t1.controller = t2.deviceid)'''\n",
    "\n",
    "#create_query='''SELECT t1.controller, t1.mountain, t2.direction, t2.milepost, t2.2015_adt FROM \n",
    "#(SELECT * FROM wydot_speed_unprocessed WHERE mountain between '2018-02-01' AND '2018-02-10') t1\n",
    "#JOIN wydot_speed_sensors_index t2 \n",
    "#ON (t1.controller = t2.deviceid)'''\n",
    "#cursor.execute(create_query)\n",
    "#Vol_dat=as_pandas(cursor)\n",
    "#Vol_dat.to_csv(\"C:/Users/abibeka/Documents/Hive-SDC/Vol_dat.csv\")\n",
    "#print(cursor.fetchall())"
   ]
  },
  {
   "cell_type": "markdown",
   "metadata": {},
   "source": [
    "## $2^{nd}$ Approach to get Count Data"
   ]
  },
  {
   "cell_type": "markdown",
   "metadata": {},
   "source": [
    "### Specify Start and End Date for Data Aggregation"
   ]
  },
  {
   "cell_type": "code",
   "execution_count": 4,
   "metadata": {},
   "outputs": [],
   "source": [
    "start_date='2018-02-01'\n",
    "end_date='2018-02-28' "
   ]
  },
  {
   "cell_type": "code",
   "execution_count": 12,
   "metadata": {},
   "outputs": [],
   "source": [
    "create_query='''SELECT t1.controller, t1.Time5M,t1.NRec, t2.direction, t2.milepost, t2.2015_adt FROM \n",
    "    (SELECT controller, FROM_UNIXTIME(CEILING(UNIX_TIMESTAMP(mountain)/300)*300) AS Time5M, count(*) AS NRec\n",
    "    FROM wydot_speed_unprocessed \n",
    "    WHERE mountain between {} AND {}\n",
    "    GROUP BY controller,FROM_UNIXTIME(CEILING(UNIX_TIMESTAMP(mountain)/300)*300)) t1\n",
    "JOIN (SELECT * FROM wydot_speed_sensors_index WHERE milepost BETWEEN 314 AND 360) t2 \n",
    "ON (t1.controller = t2.deviceid)\n",
    "ORDER BY t1.controller, t1.Time5M'''.format(start_date,end_date)\n",
    "cursor.execute(create_query)\n",
    "Vol_dat2=as_pandas(cursor)"
   ]
  },
  {
   "cell_type": "code",
   "execution_count": 13,
   "metadata": {},
   "outputs": [],
   "source": [
    "Vol_dat2.to_csv(\"Z:/Apoorb/Vol_dat_V1.csv\")"
   ]
  },
  {
   "cell_type": "code",
   "execution_count": 15,
   "metadata": {},
   "outputs": [
    {
     "name": "stdout",
     "output_type": "stream",
     "text": [
      "(array([ 384,  385,  386,  387,  388,  389,  390,  391,  396, 1839, 2146,\n",
      "       2147, 2178, 2191, 2202, 2213, 2246, 2263, 2274, 2289, 2298, 2310,\n",
      "       2319, 3654, 3911], dtype=int64), array([ 396, 3654, 3911,  395, 2146, 2147,  394,  383,  384,  385, 2178,\n",
      "        393, 2191, 2202, 2213,  386,  387,  388,  389, 2246,  390, 2263,\n",
      "        391, 2274, 2289, 2298, 2310, 2319, 1839], dtype=int64))\n"
     ]
    }
   ],
   "source": [
    "print(Vol_dat2['t1.controller'].unique(),SS2index['deviceid'].unique()) "
   ]
  },
  {
   "cell_type": "markdown",
   "metadata": {},
   "source": [
    "## Check for Missing Index"
   ]
  },
  {
   "cell_type": "code",
   "execution_count": 38,
   "metadata": {},
   "outputs": [
    {
     "name": "stdout",
     "output_type": "stream",
     "text": [
      "set([393, 394, 395, 383])\n"
     ]
    }
   ],
   "source": [
    "# Return set with sensor ids missing from the database:\n",
    "print(set(SS2index['deviceid'].values)-set(Vol_dat2['t1.controller'].values))"
   ]
  },
  {
   "cell_type": "markdown",
   "metadata": {},
   "source": [
    "## Write file directly to my Bucket"
   ]
  },
  {
   "cell_type": "markdown",
   "metadata": {},
   "source": [
    "    Note: For Python 2.7 we imported BytesIO as StringIO\n",
    "    Don't need to do this for Python 3.x\n",
    "    Just use import StringIO as StringIO"
   ]
  },
  {
   "cell_type": "code",
   "execution_count": 36,
   "metadata": {},
   "outputs": [
    {
     "data": {
      "text/plain": [
       "{u'ETag': '\"baef08d4afcb8f83143115e981d43b74\"',\n",
       " 'ResponseMetadata': {'HTTPHeaders': {'content-length': '0',\n",
       "   'date': 'Thu, 21 Mar 2019 18:34:45 GMT',\n",
       "   'etag': '\"baef08d4afcb8f83143115e981d43b74\"',\n",
       "   'server': 'AmazonS3',\n",
       "   'x-amz-id-2': '6jCOIhRUbMZoxqzyl95lFjoPY4wFVrwMq1VZWshckOBh1Oz9a8/Y5nOahOrhLVxsEyNqRLajin4=',\n",
       "   'x-amz-request-id': '758A61AF86B4E780'},\n",
       "  'HTTPStatusCode': 200,\n",
       "  'HostId': '6jCOIhRUbMZoxqzyl95lFjoPY4wFVrwMq1VZWshckOBh1Oz9a8/Y5nOahOrhLVxsEyNqRLajin4=',\n",
       "  'RequestId': '758A61AF86B4E780',\n",
       "  'RetryAttempts': 0}}"
      ]
     },
     "execution_count": 36,
     "metadata": {},
     "output_type": "execute_result"
    }
   ],
   "source": [
    "csv_buffer=StringIO()\n",
    "Vol_dat2.to_csv(csv_buffer,sep=\",\",index=False)\n",
    "s3=boto3.resource('s3')\n",
    "s3.Object('prod-sdc-tti-911061262852-us-east-1-bucket','abibeka/Vol_dat.csv').put(Body=csv_buffer.getvalue())"
   ]
  }
 ],
 "metadata": {
  "kernelspec": {
   "display_name": "Python 2",
   "language": "python",
   "name": "python2"
  },
  "language_info": {
   "codemirror_mode": {
    "name": "ipython",
    "version": 2
   },
   "file_extension": ".py",
   "mimetype": "text/x-python",
   "name": "python",
   "nbconvert_exporter": "python",
   "pygments_lexer": "ipython2",
   "version": "2.7.15"
  }
 },
 "nbformat": 4,
 "nbformat_minor": 2
}
