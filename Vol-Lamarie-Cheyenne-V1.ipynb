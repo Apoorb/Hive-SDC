{
 "cells": [
  {
   "cell_type": "markdown",
   "metadata": {},
   "source": [
    "# Get 5 min volume for Feb 2018 from Unprocessed Speed"
   ]
  },
  {
   "cell_type": "markdown",
   "metadata": {},
   "source": [
    "    Created by: Apoorba Bibeka\n",
    "    Date: March 20, 2019"
   ]
  },
  {
   "cell_type": "markdown",
   "metadata": {},
   "source": [
    "## Import required modules"
   ]
  },
  {
   "cell_type": "code",
   "execution_count": 1,
   "metadata": {},
   "outputs": [],
   "source": [
    "import getpass\n",
    "import boto3\n",
    "import pandas as pd\n",
    "from impala.dbapi import connect\n",
    "from impala.util import as_pandas\n",
    "from io import BytesIO as StringIO"
   ]
  },
  {
   "cell_type": "markdown",
   "metadata": {},
   "source": [
    "## Connect to the database"
   ]
  },
  {
   "cell_type": "code",
   "execution_count": 3,
   "metadata": {},
   "outputs": [
    {
     "name": "stdout",
     "output_type": "stream",
     "text": [
      "········\n"
     ]
    }
   ],
   "source": [
    "username = \"abibeka@securedatacommons.com\"\n",
    "password1 = getpass.getpass()"
   ]
  },
  {
   "cell_type": "code",
   "execution_count": 5,
   "metadata": {},
   "outputs": [],
   "source": [
    "conn = connect(host=\"172.18.1.20\",auth_mechanism='PLAIN',port=10000,user=username, password=password1)"
   ]
  },
  {
   "cell_type": "markdown",
   "metadata": {},
   "source": [
    "## Look at the device ids from \"wydot_speed_sensors_index\""
   ]
  },
  {
   "cell_type": "code",
   "execution_count": 4,
   "metadata": {},
   "outputs": [
    {
     "name": "stdout",
     "output_type": "stream",
     "text": [
      "(array([ 382,  383,  393,  394,  395,  396,  398,  400,  405,  407,  408,\n",
      "        411,  384,  482, 1075, 1084, 1100, 1134, 1145, 1153, 1167, 1219,\n",
      "       1231,  385, 1241, 1251, 1258, 1269, 1280, 1327, 1342, 1837, 1838,\n",
      "       1839,  386, 2020, 2032, 2049, 2070, 2079, 2090, 2146, 2147, 2178,\n",
      "       2191,  387, 2202, 2213, 2246, 2263, 2274, 2289, 2298, 2310, 2319,\n",
      "       2334,  388, 2346, 2359, 2372, 2383, 2395, 2409, 2421, 2433, 2445,\n",
      "       2578,  389, 2607, 2609, 2916, 3236, 3243, 3249, 3296, 3402, 3482,\n",
      "       3654,  390, 3897, 3899, 3901, 3903, 3905, 3907, 3909, 3911,  391],\n",
      "      dtype=int64), Index([u'deviceid', u'lat_decimal', u'long_decimal', u'road_code', u'sitename',\n",
      "       u'devicename', u'sensortype', u'public_route', u'gis_route',\n",
      "       u'direction', u'milepost', u'sensor_loc', u'nearest_rwis', u'rwis',\n",
      "       u'backup_rwis', u'2015_adt', u'vsl_id', u'eb_vsl', u'wb_vsl',\n",
      "       u'horiz_d', u'horiz_i', u'vert_i', u'vert_d', u'notes'],\n",
      "      dtype='object'))\n"
     ]
    }
   ],
   "source": [
    "cursor = conn.cursor()\n",
    "cursor.execute('select * from wydot_speed_sensors_index')\n",
    "# Store the index data tanle\n",
    "SSindex = as_pandas(cursor)\n",
    "# Remove \"wydot_speed_sensors_index.\" from the col names\n",
    "Rename1 ={x:x.split('wydot_speed_sensors_index.')[1] for x in SSindex}\n",
    "SSindex=SSindex.rename(index=str,columns=Rename1)\n",
    "print(SSindex['deviceid'].values,SSindex.columns)"
   ]
  },
  {
   "cell_type": "markdown",
   "metadata": {},
   "source": [
    "### Subset data for Lamarie & Cheyenne"
   ]
  },
  {
   "cell_type": "code",
   "execution_count": null,
   "metadata": {},
   "outputs": [],
   "source": [
    "SS2index=SSindex.loc[(SSindex['milepost']>=314)&(SSindex['milepost']<=360)]\n",
    "SS2index = SS2index[[\"deviceid\",\"milepost\",\"direction\",\"2015_adt\"]].copy()\n",
    "print(SS2index['deviceid'].values)"
   ]
  },
  {
   "cell_type": "markdown",
   "metadata": {},
   "source": [
    "## Get the index Data (314 <= Milepost <=360) from S3 bucket (Source: WyDoT Report)"
   ]
  },
  {
   "cell_type": "code",
   "execution_count": 17,
   "metadata": {},
   "outputs": [
    {
     "data": {
      "text/html": [
       "<div>\n",
       "<style scoped>\n",
       "    .dataframe tbody tr th:only-of-type {\n",
       "        vertical-align: middle;\n",
       "    }\n",
       "\n",
       "    .dataframe tbody tr th {\n",
       "        vertical-align: top;\n",
       "    }\n",
       "\n",
       "    .dataframe thead th {\n",
       "        text-align: right;\n",
       "    }\n",
       "</style>\n",
       "<table border=\"1\" class=\"dataframe\">\n",
       "  <thead>\n",
       "    <tr style=\"text-align: right;\">\n",
       "      <th></th>\n",
       "      <th>DEVICEID</th>\n",
       "      <th>SITENAME</th>\n",
       "      <th>MP</th>\n",
       "      <th>Sensor_Loc</th>\n",
       "    </tr>\n",
       "  </thead>\n",
       "  <tbody>\n",
       "    <tr>\n",
       "      <th>0</th>\n",
       "      <td>396</td>\n",
       "      <td>Laramie East</td>\n",
       "      <td>317.68</td>\n",
       "      <td>EB</td>\n",
       "    </tr>\n",
       "    <tr>\n",
       "      <th>1</th>\n",
       "      <td>3911</td>\n",
       "      <td>Telephone Canyon</td>\n",
       "      <td>320.70</td>\n",
       "      <td>WB</td>\n",
       "    </tr>\n",
       "    <tr>\n",
       "      <th>2</th>\n",
       "      <td>395</td>\n",
       "      <td>Summit</td>\n",
       "      <td>322.05</td>\n",
       "      <td>WB</td>\n",
       "    </tr>\n",
       "    <tr>\n",
       "      <th>3</th>\n",
       "      <td>2146</td>\n",
       "      <td>Summit</td>\n",
       "      <td>322.60</td>\n",
       "      <td>WB</td>\n",
       "    </tr>\n",
       "    <tr>\n",
       "      <th>4</th>\n",
       "      <td>2147</td>\n",
       "      <td>Summit</td>\n",
       "      <td>323.85</td>\n",
       "      <td>EB</td>\n",
       "    </tr>\n",
       "  </tbody>\n",
       "</table>\n",
       "</div>"
      ],
      "text/plain": [
       "   DEVICEID          SITENAME      MP Sensor_Loc\n",
       "0       396      Laramie East  317.68         EB\n",
       "1      3911  Telephone Canyon  320.70         WB\n",
       "2       395            Summit  322.05         WB\n",
       "3      2146            Summit  322.60         WB\n",
       "4      2147            Summit  323.85         EB"
      ]
     },
     "execution_count": 17,
     "metadata": {},
     "output_type": "execute_result"
    }
   ],
   "source": [
    "#Data I got from a Report\n",
    "client=boto3.client('s3')\n",
    "# Get the data from our bucket directly\n",
    "obj=client.get_object(Bucket='prod-sdc-tti-911061262852-us-east-1-bucket',Key=\"abibeka/uploaded_files/SpeedSen_MP_314_360.csv\")\n",
    "AB_SS=pd.read_csv(obj['Body'])\n",
    "AB_SS.head()"
   ]
  },
  {
   "cell_type": "markdown",
   "metadata": {},
   "source": [
    "## Compare index from WyDOT Report and Database"
   ]
  },
  {
   "cell_type": "code",
   "execution_count": 8,
   "metadata": {},
   "outputs": [
    {
     "name": "stdout",
     "output_type": "stream",
     "text": [
      "set([])\n",
      "set([384, 385, 386, 387, 388, 389, 2310, 391, 393, 394, 395, 396, 2178, 2191, 2202, 3654, 1839, 2246, 3911, 2146, 2263, 2319, 390, 2213, 2274, 2147, 2289, 2298, 383])\n"
     ]
    }
   ],
   "source": [
    "# Return set with elements in either the set or ohter but not both\n",
    "print(set(AB_SS['DEVICEID'].values) ^ set(SS2index['deviceid'].values))\n",
    "# Return intersection \n",
    "print(set(AB_SS['DEVICEID'].values) & set(SS2index['deviceid'].values))"
   ]
  },
  {
   "cell_type": "markdown",
   "metadata": {},
   "source": [
    "## Get relevant columns and Rows from the Index Data"
   ]
  },
  {
   "cell_type": "code",
   "execution_count": 18,
   "metadata": {},
   "outputs": [
    {
     "data": {
      "text/html": [
       "<div>\n",
       "<style scoped>\n",
       "    .dataframe tbody tr th:only-of-type {\n",
       "        vertical-align: middle;\n",
       "    }\n",
       "\n",
       "    .dataframe tbody tr th {\n",
       "        vertical-align: top;\n",
       "    }\n",
       "\n",
       "    .dataframe thead th {\n",
       "        text-align: right;\n",
       "    }\n",
       "</style>\n",
       "<table border=\"1\" class=\"dataframe\">\n",
       "  <thead>\n",
       "    <tr style=\"text-align: right;\">\n",
       "      <th></th>\n",
       "      <th>deviceid</th>\n",
       "      <th>milepost</th>\n",
       "      <th>direction</th>\n",
       "      <th>2015_adt</th>\n",
       "    </tr>\n",
       "  </thead>\n",
       "  <tbody>\n",
       "    <tr>\n",
       "      <th>0</th>\n",
       "      <td>396</td>\n",
       "      <td>317.68</td>\n",
       "      <td>B</td>\n",
       "      <td>13890</td>\n",
       "    </tr>\n",
       "    <tr>\n",
       "      <th>1</th>\n",
       "      <td>3654</td>\n",
       "      <td>318.50</td>\n",
       "      <td>D</td>\n",
       "      <td>13890</td>\n",
       "    </tr>\n",
       "    <tr>\n",
       "      <th>2</th>\n",
       "      <td>3911</td>\n",
       "      <td>320.70</td>\n",
       "      <td>B</td>\n",
       "      <td>13890</td>\n",
       "    </tr>\n",
       "    <tr>\n",
       "      <th>3</th>\n",
       "      <td>395</td>\n",
       "      <td>322.05</td>\n",
       "      <td>B</td>\n",
       "      <td>13890</td>\n",
       "    </tr>\n",
       "    <tr>\n",
       "      <th>4</th>\n",
       "      <td>2146</td>\n",
       "      <td>322.60</td>\n",
       "      <td>B</td>\n",
       "      <td>13890</td>\n",
       "    </tr>\n",
       "  </tbody>\n",
       "</table>\n",
       "</div>"
      ],
      "text/plain": [
       "   deviceid  milepost direction  2015_adt\n",
       "0       396    317.68         B     13890\n",
       "1      3654    318.50         D     13890\n",
       "2      3911    320.70         B     13890\n",
       "3       395    322.05         B     13890\n",
       "4      2146    322.60         B     13890"
      ]
     },
     "execution_count": 18,
     "metadata": {},
     "output_type": "execute_result"
    }
   ],
   "source": [
    "SS2index=SS2index.sort_values(by=\"milepost\")\n",
    "SS2index=SS2index.reset_index(drop=True)\n",
    "SS2index.head()"
   ]
  },
  {
   "cell_type": "markdown",
   "metadata": {},
   "source": [
    "## Initial Approach to get Volume Data (Not good - Can Aggregate Directly on Hive)"
   ]
  },
  {
   "cell_type": "code",
   "execution_count": 11,
   "metadata": {},
   "outputs": [],
   "source": [
    "#create_query='''SELECT t1.controller, t1.mountain, t2.direction, t2.milepost, t2.2015_adt FROM \n",
    "#(SELECT * FROM wydot_speed_unprocessed WHERE mountain between '2018-02-01' AND '2018-02-28') t1\n",
    "#JOIN wydot_speed_sensors_index t2 \n",
    "#ON (t1.controller = t2.deviceid)'''\n",
    "\n",
    "#create_query='''SELECT t1.controller, t1.mountain, t2.direction, t2.milepost, t2.2015_adt FROM \n",
    "#(SELECT * FROM wydot_speed_unprocessed WHERE mountain between '2018-02-01' AND '2018-02-10') t1\n",
    "#JOIN wydot_speed_sensors_index t2 \n",
    "#ON (t1.controller = t2.deviceid)'''\n",
    "#cursor.execute(create_query)\n",
    "#Vol_dat=as_pandas(cursor)\n",
    "#Vol_dat.to_csv(\"C:/Users/abibeka/Documents/Hive-SDC/Vol_dat.csv\")\n",
    "#print(cursor.fetchall())"
   ]
  },
  {
   "cell_type": "markdown",
   "metadata": {},
   "source": [
    "## $2^{nd}$ Approach to get Count Data"
   ]
  },
  {
   "cell_type": "markdown",
   "metadata": {},
   "source": [
    "### Specify Start and End Date for Data Aggregation"
   ]
  },
  {
   "cell_type": "code",
   "execution_count": 20,
   "metadata": {},
   "outputs": [],
   "source": [
    "start_date='2018-02-01'\n",
    "end_date='2018-02-28' "
   ]
  },
  {
   "cell_type": "code",
   "execution_count": 24,
   "metadata": {},
   "outputs": [
    {
     "data": {
      "text/html": [
       "<div>\n",
       "<style scoped>\n",
       "    .dataframe tbody tr th:only-of-type {\n",
       "        vertical-align: middle;\n",
       "    }\n",
       "\n",
       "    .dataframe tbody tr th {\n",
       "        vertical-align: top;\n",
       "    }\n",
       "\n",
       "    .dataframe thead th {\n",
       "        text-align: right;\n",
       "    }\n",
       "</style>\n",
       "<table border=\"1\" class=\"dataframe\">\n",
       "  <thead>\n",
       "    <tr style=\"text-align: right;\">\n",
       "      <th></th>\n",
       "      <th>t1.controller</th>\n",
       "      <th>t1.time5m</th>\n",
       "      <th>t1.nrec</th>\n",
       "      <th>t2.direction</th>\n",
       "      <th>t2.milepost</th>\n",
       "      <th>t2.2015_adt</th>\n",
       "    </tr>\n",
       "  </thead>\n",
       "  <tbody>\n",
       "    <tr>\n",
       "      <th>0</th>\n",
       "      <td>384</td>\n",
       "      <td>2018-02-01 00:05:00</td>\n",
       "      <td>20</td>\n",
       "      <td>I</td>\n",
       "      <td>325.8</td>\n",
       "      <td>13890</td>\n",
       "    </tr>\n",
       "    <tr>\n",
       "      <th>1</th>\n",
       "      <td>384</td>\n",
       "      <td>2018-02-01 00:10:00</td>\n",
       "      <td>9</td>\n",
       "      <td>I</td>\n",
       "      <td>325.8</td>\n",
       "      <td>13890</td>\n",
       "    </tr>\n",
       "    <tr>\n",
       "      <th>2</th>\n",
       "      <td>384</td>\n",
       "      <td>2018-02-01 00:15:00</td>\n",
       "      <td>17</td>\n",
       "      <td>I</td>\n",
       "      <td>325.8</td>\n",
       "      <td>13890</td>\n",
       "    </tr>\n",
       "    <tr>\n",
       "      <th>3</th>\n",
       "      <td>384</td>\n",
       "      <td>2018-02-01 00:20:00</td>\n",
       "      <td>17</td>\n",
       "      <td>I</td>\n",
       "      <td>325.8</td>\n",
       "      <td>13890</td>\n",
       "    </tr>\n",
       "    <tr>\n",
       "      <th>4</th>\n",
       "      <td>384</td>\n",
       "      <td>2018-02-01 00:25:00</td>\n",
       "      <td>10</td>\n",
       "      <td>I</td>\n",
       "      <td>325.8</td>\n",
       "      <td>13890</td>\n",
       "    </tr>\n",
       "  </tbody>\n",
       "</table>\n",
       "</div>"
      ],
      "text/plain": [
       "   t1.controller            t1.time5m  t1.nrec t2.direction  t2.milepost  \\\n",
       "0            384  2018-02-01 00:05:00       20            I        325.8   \n",
       "1            384  2018-02-01 00:10:00        9            I        325.8   \n",
       "2            384  2018-02-01 00:15:00       17            I        325.8   \n",
       "3            384  2018-02-01 00:20:00       17            I        325.8   \n",
       "4            384  2018-02-01 00:25:00       10            I        325.8   \n",
       "\n",
       "   t2.2015_adt  \n",
       "0        13890  \n",
       "1        13890  \n",
       "2        13890  \n",
       "3        13890  \n",
       "4        13890  "
      ]
     },
     "execution_count": 24,
     "metadata": {},
     "output_type": "execute_result"
    }
   ],
   "source": [
    "create_query='''SELECT t1.controller, t1.Time5M,t1.NRec, t2.direction, t2.milepost, t2.2015_adt FROM \n",
    "    (SELECT controller, FROM_UNIXTIME(CEILING(UNIX_TIMESTAMP(mountain)/300)*300) AS Time5M, count(*) AS NRec\n",
    "    FROM wydot_speed_unprocessed \n",
    "    WHERE mountain between '{}' AND '{}'\n",
    "    GROUP BY controller, FROM_UNIXTIME(CEILING(UNIX_TIMESTAMP(mountain)/300)*300)) t1\n",
    "JOIN (SELECT * FROM wydot_speed_sensors_index WHERE milepost BETWEEN 314 AND 360) t2 \n",
    "ON (t1.controller = t2.deviceid)\n",
    "ORDER BY t1.controller, t1.Time5M'''.format(start_date,end_date)\n",
    "cursor.execute(create_query)\n",
    "Vol_dat2=as_pandas(cursor)\n",
    "Vol_dat2.head()"
   ]
  },
  {
   "cell_type": "code",
   "execution_count": null,
   "metadata": {},
   "outputs": [],
   "source": [
    "# Store the data to Z drive\n",
    "Vol_dat2.to_csv(\"Z:/Apoorb/Vol_dat_V1.csv\")"
   ]
  },
  {
   "cell_type": "code",
   "execution_count": 15,
   "metadata": {},
   "outputs": [
    {
     "name": "stdout",
     "output_type": "stream",
     "text": [
      "(array([ 384,  385,  386,  387,  388,  389,  390,  391,  396, 1839, 2146,\n",
      "       2147, 2178, 2191, 2202, 2213, 2246, 2263, 2274, 2289, 2298, 2310,\n",
      "       2319, 3654, 3911], dtype=int64), array([ 396, 3654, 3911,  395, 2146, 2147,  394,  383,  384,  385, 2178,\n",
      "        393, 2191, 2202, 2213,  386,  387,  388,  389, 2246,  390, 2263,\n",
      "        391, 2274, 2289, 2298, 2310, 2319, 1839], dtype=int64))\n"
     ]
    }
   ],
   "source": [
    "print(Vol_dat2['t1.controller'].unique(),SS2index['deviceid'].unique()) "
   ]
  },
  {
   "cell_type": "markdown",
   "metadata": {},
   "source": [
    "## Check for Missing Index"
   ]
  },
  {
   "cell_type": "code",
   "execution_count": 38,
   "metadata": {},
   "outputs": [
    {
     "name": "stdout",
     "output_type": "stream",
     "text": [
      "set([393, 394, 395, 383])\n"
     ]
    }
   ],
   "source": [
    "# Return set with sensor ids missing from the database:\n",
    "print(set(SS2index['deviceid'].values)-set(Vol_dat2['t1.controller'].values))"
   ]
  },
  {
   "cell_type": "markdown",
   "metadata": {},
   "source": [
    "## Write file directly to my Bucket"
   ]
  },
  {
   "cell_type": "markdown",
   "metadata": {},
   "source": [
    "    Note: For Python 2.7 we imported BytesIO as StringIO\n",
    "    Don't need to do this for Python 3.x\n",
    "    Just use import StringIO as StringIO"
   ]
  },
  {
   "cell_type": "code",
   "execution_count": 36,
   "metadata": {
    "collapsed": true
   },
   "outputs": [
    {
     "data": {
      "text/plain": [
       "{u'ETag': '\"baef08d4afcb8f83143115e981d43b74\"',\n",
       " 'ResponseMetadata': {'HTTPHeaders': {'content-length': '0',\n",
       "   'date': 'Thu, 21 Mar 2019 18:34:45 GMT',\n",
       "   'etag': '\"baef08d4afcb8f83143115e981d43b74\"',\n",
       "   'server': 'AmazonS3',\n",
       "   'x-amz-id-2': '6jCOIhRUbMZoxqzyl95lFjoPY4wFVrwMq1VZWshckOBh1Oz9a8/Y5nOahOrhLVxsEyNqRLajin4=',\n",
       "   'x-amz-request-id': '758A61AF86B4E780'},\n",
       "  'HTTPStatusCode': 200,\n",
       "  'HostId': '6jCOIhRUbMZoxqzyl95lFjoPY4wFVrwMq1VZWshckOBh1Oz9a8/Y5nOahOrhLVxsEyNqRLajin4=',\n",
       "  'RequestId': '758A61AF86B4E780',\n",
       "  'RetryAttempts': 0}}"
      ]
     },
     "execution_count": 36,
     "metadata": {},
     "output_type": "execute_result"
    }
   ],
   "source": [
    "csv_buffer=StringIO()\n",
    "Vol_dat2.to_csv(csv_buffer,sep=\",\",index=False)\n",
    "s3=boto3.resource('s3')\n",
    "s3.Object('prod-sdc-tti-911061262852-us-east-1-bucket','abibeka/Vol_dat.csv').put(Body=csv_buffer.getvalue())"
   ]
  },
  {
   "cell_type": "markdown",
   "metadata": {},
   "source": [
    "# Get data divided by lane and vehicle type"
   ]
  },
  {
   "cell_type": "code",
   "execution_count": 14,
   "metadata": {},
   "outputs": [
    {
     "data": {
      "text/html": [
       "<div>\n",
       "<style scoped>\n",
       "    .dataframe tbody tr th:only-of-type {\n",
       "        vertical-align: middle;\n",
       "    }\n",
       "\n",
       "    .dataframe tbody tr th {\n",
       "        vertical-align: top;\n",
       "    }\n",
       "\n",
       "    .dataframe thead th {\n",
       "        text-align: right;\n",
       "    }\n",
       "</style>\n",
       "<table border=\"1\" class=\"dataframe\">\n",
       "  <thead>\n",
       "    <tr style=\"text-align: right;\">\n",
       "      <th></th>\n",
       "      <th>wydot_speed_unprocessed.utc</th>\n",
       "      <th>wydot_speed_unprocessed.mountain</th>\n",
       "      <th>wydot_speed_unprocessed.controller</th>\n",
       "      <th>wydot_speed_unprocessed.lane</th>\n",
       "      <th>wydot_speed_unprocessed.datasource</th>\n",
       "      <th>wydot_speed_unprocessed.durationms</th>\n",
       "      <th>wydot_speed_unprocessed.speedmph</th>\n",
       "      <th>wydot_speed_unprocessed.lengthft</th>\n",
       "      <th>wydot_speed_unprocessed.vehclass</th>\n",
       "    </tr>\n",
       "  </thead>\n",
       "  <tbody>\n",
       "    <tr>\n",
       "      <th>0</th>\n",
       "      <td>2018-04-18 06:17:03</td>\n",
       "      <td>2018-04-18 00:17:03</td>\n",
       "      <td>1075</td>\n",
       "      <td>1</td>\n",
       "      <td>14</td>\n",
       "      <td>435</td>\n",
       "      <td>None</td>\n",
       "      <td>14.16</td>\n",
       "      <td>1</td>\n",
       "    </tr>\n",
       "    <tr>\n",
       "      <th>1</th>\n",
       "      <td>2018-04-18 06:52:20</td>\n",
       "      <td>2018-04-18 00:52:20</td>\n",
       "      <td>1075</td>\n",
       "      <td>1</td>\n",
       "      <td>14</td>\n",
       "      <td>461</td>\n",
       "      <td>None</td>\n",
       "      <td>15.39</td>\n",
       "      <td>1</td>\n",
       "    </tr>\n",
       "    <tr>\n",
       "      <th>2</th>\n",
       "      <td>2018-04-18 07:41:49</td>\n",
       "      <td>2018-04-18 01:41:49</td>\n",
       "      <td>1075</td>\n",
       "      <td>1</td>\n",
       "      <td>14</td>\n",
       "      <td>11989</td>\n",
       "      <td>None</td>\n",
       "      <td>6.00</td>\n",
       "      <td>0</td>\n",
       "    </tr>\n",
       "    <tr>\n",
       "      <th>3</th>\n",
       "      <td>2018-04-18 08:03:02</td>\n",
       "      <td>2018-04-18 02:03:02</td>\n",
       "      <td>1075</td>\n",
       "      <td>1</td>\n",
       "      <td>14</td>\n",
       "      <td>694</td>\n",
       "      <td>None</td>\n",
       "      <td>26.17</td>\n",
       "      <td>2</td>\n",
       "    </tr>\n",
       "    <tr>\n",
       "      <th>4</th>\n",
       "      <td>2018-04-18 09:24:06</td>\n",
       "      <td>2018-04-18 03:24:06</td>\n",
       "      <td>1075</td>\n",
       "      <td>1</td>\n",
       "      <td>14</td>\n",
       "      <td>293</td>\n",
       "      <td>None</td>\n",
       "      <td>7.60</td>\n",
       "      <td>1</td>\n",
       "    </tr>\n",
       "  </tbody>\n",
       "</table>\n",
       "</div>"
      ],
      "text/plain": [
       "  wydot_speed_unprocessed.utc wydot_speed_unprocessed.mountain  \\\n",
       "0         2018-04-18 06:17:03              2018-04-18 00:17:03   \n",
       "1         2018-04-18 06:52:20              2018-04-18 00:52:20   \n",
       "2         2018-04-18 07:41:49              2018-04-18 01:41:49   \n",
       "3         2018-04-18 08:03:02              2018-04-18 02:03:02   \n",
       "4         2018-04-18 09:24:06              2018-04-18 03:24:06   \n",
       "\n",
       "   wydot_speed_unprocessed.controller  wydot_speed_unprocessed.lane  \\\n",
       "0                                1075                             1   \n",
       "1                                1075                             1   \n",
       "2                                1075                             1   \n",
       "3                                1075                             1   \n",
       "4                                1075                             1   \n",
       "\n",
       "   wydot_speed_unprocessed.datasource  wydot_speed_unprocessed.durationms  \\\n",
       "0                                  14                                 435   \n",
       "1                                  14                                 461   \n",
       "2                                  14                               11989   \n",
       "3                                  14                                 694   \n",
       "4                                  14                                 293   \n",
       "\n",
       "  wydot_speed_unprocessed.speedmph  wydot_speed_unprocessed.lengthft  \\\n",
       "0                             None                             14.16   \n",
       "1                             None                             15.39   \n",
       "2                             None                              6.00   \n",
       "3                             None                             26.17   \n",
       "4                             None                              7.60   \n",
       "\n",
       "   wydot_speed_unprocessed.vehclass  \n",
       "0                                 1  \n",
       "1                                 1  \n",
       "2                                 0  \n",
       "3                                 2  \n",
       "4                                 1  "
      ]
     },
     "execution_count": 14,
     "metadata": {},
     "output_type": "execute_result"
    }
   ],
   "source": [
    "start_date='2018-02-01'\n",
    "end_date='2018-02-28'\n",
    "create_query='''SELECT t1.controller, t1.lane, t1.vehclass, t1.Time5M,t1.NRec, t2.direction, t2.milepost, t2.2015_adt FROM \n",
    "    (SELECT controller, FROM_UNIXTIME(CEILING(UNIX_TIMESTAMP(mountain)/300)*300) AS Time5M, lane, vehclass, count(*) AS NRec\n",
    "    FROM wydot_speed_unprocessed \n",
    "    WHERE mountain between '{}' AND '{}'\n",
    "    GROUP BY controller, lane, vehclass,FROM_UNIXTIME(CEILING(UNIX_TIMESTAMP(mountain)/300)*300)) t1\n",
    "JOIN (SELECT * FROM wydot_speed_sensors_index WHERE milepost BETWEEN 314 AND 360) t2 \n",
    "ON (t1.controller = t2.deviceid)\n",
    "ORDER BY t1.controller, t1.Time5M, t1.lane, t1.vehclass'''.format(start_date,end_date)\n",
    "cursor.execute(create_query)\n",
    "Vol_dat3=as_pandas(cursor)\n"
   ]
  },
  {
   "cell_type": "code",
   "execution_count": 30,
   "metadata": {
    "scrolled": true
   },
   "outputs": [
    {
     "data": {
      "text/html": [
       "<div>\n",
       "<style scoped>\n",
       "    .dataframe tbody tr th:only-of-type {\n",
       "        vertical-align: middle;\n",
       "    }\n",
       "\n",
       "    .dataframe tbody tr th {\n",
       "        vertical-align: top;\n",
       "    }\n",
       "\n",
       "    .dataframe thead th {\n",
       "        text-align: right;\n",
       "    }\n",
       "</style>\n",
       "<table border=\"1\" class=\"dataframe\">\n",
       "  <thead>\n",
       "    <tr style=\"text-align: right;\">\n",
       "      <th></th>\n",
       "      <th>t1.controller</th>\n",
       "      <th>t1.lane</th>\n",
       "      <th>t1.vehclass</th>\n",
       "      <th>t1.time5m</th>\n",
       "      <th>t1.nrec</th>\n",
       "      <th>t2.direction</th>\n",
       "      <th>t2.milepost</th>\n",
       "      <th>t2.2015_adt</th>\n",
       "    </tr>\n",
       "  </thead>\n",
       "  <tbody>\n",
       "    <tr>\n",
       "      <th>0</th>\n",
       "      <td>384</td>\n",
       "      <td>1</td>\n",
       "      <td>1</td>\n",
       "      <td>2018-02-01 00:05:00</td>\n",
       "      <td>1</td>\n",
       "      <td>I</td>\n",
       "      <td>325.8</td>\n",
       "      <td>13890</td>\n",
       "    </tr>\n",
       "    <tr>\n",
       "      <th>1</th>\n",
       "      <td>384</td>\n",
       "      <td>1</td>\n",
       "      <td>2</td>\n",
       "      <td>2018-02-01 00:05:00</td>\n",
       "      <td>1</td>\n",
       "      <td>I</td>\n",
       "      <td>325.8</td>\n",
       "      <td>13890</td>\n",
       "    </tr>\n",
       "    <tr>\n",
       "      <th>2</th>\n",
       "      <td>384</td>\n",
       "      <td>1</td>\n",
       "      <td>3</td>\n",
       "      <td>2018-02-01 00:05:00</td>\n",
       "      <td>4</td>\n",
       "      <td>I</td>\n",
       "      <td>325.8</td>\n",
       "      <td>13890</td>\n",
       "    </tr>\n",
       "    <tr>\n",
       "      <th>3</th>\n",
       "      <td>384</td>\n",
       "      <td>3</td>\n",
       "      <td>3</td>\n",
       "      <td>2018-02-01 00:05:00</td>\n",
       "      <td>3</td>\n",
       "      <td>I</td>\n",
       "      <td>325.8</td>\n",
       "      <td>13890</td>\n",
       "    </tr>\n",
       "    <tr>\n",
       "      <th>4</th>\n",
       "      <td>384</td>\n",
       "      <td>4</td>\n",
       "      <td>1</td>\n",
       "      <td>2018-02-01 00:05:00</td>\n",
       "      <td>1</td>\n",
       "      <td>I</td>\n",
       "      <td>325.8</td>\n",
       "      <td>13890</td>\n",
       "    </tr>\n",
       "  </tbody>\n",
       "</table>\n",
       "</div>"
      ],
      "text/plain": [
       "   t1.controller  t1.lane  t1.vehclass            t1.time5m  t1.nrec  \\\n",
       "0            384        1            1  2018-02-01 00:05:00        1   \n",
       "1            384        1            2  2018-02-01 00:05:00        1   \n",
       "2            384        1            3  2018-02-01 00:05:00        4   \n",
       "3            384        3            3  2018-02-01 00:05:00        3   \n",
       "4            384        4            1  2018-02-01 00:05:00        1   \n",
       "\n",
       "  t2.direction  t2.milepost  t2.2015_adt  \n",
       "0            I        325.8        13890  \n",
       "1            I        325.8        13890  \n",
       "2            I        325.8        13890  \n",
       "3            I        325.8        13890  \n",
       "4            I        325.8        13890  "
      ]
     },
     "execution_count": 30,
     "metadata": {},
     "output_type": "execute_result"
    }
   ],
   "source": [
    "Vol_dat3.head()"
   ]
  },
  {
   "cell_type": "markdown",
   "metadata": {},
   "source": [
    "# Save aggregate data by lane and vehicle class"
   ]
  },
  {
   "cell_type": "code",
   "execution_count": 33,
   "metadata": {
    "scrolled": true
   },
   "outputs": [
    {
     "data": {
      "text/plain": [
       "{u'ETag': '\"72f8b7e8b6467319811f6d6608c64ce7\"',\n",
       " 'ResponseMetadata': {'HTTPHeaders': {'content-length': '0',\n",
       "   'date': 'Wed, 27 Mar 2019 21:52:32 GMT',\n",
       "   'etag': '\"72f8b7e8b6467319811f6d6608c64ce7\"',\n",
       "   'server': 'AmazonS3',\n",
       "   'x-amz-id-2': 'cQodwco+eGI+s1k/sWOW7Hpbb6iPE1C4Ya3/AXmodJLxZVi2d0gCSN9ciKnanMVGMCMMwqRdwwk=',\n",
       "   'x-amz-request-id': '42C433370D359C95'},\n",
       "  'HTTPStatusCode': 200,\n",
       "  'HostId': 'cQodwco+eGI+s1k/sWOW7Hpbb6iPE1C4Ya3/AXmodJLxZVi2d0gCSN9ciKnanMVGMCMMwqRdwwk=',\n",
       "  'RequestId': '42C433370D359C95',\n",
       "  'RetryAttempts': 0}}"
      ]
     },
     "execution_count": 33,
     "metadata": {},
     "output_type": "execute_result"
    }
   ],
   "source": [
    "csv_buffer=StringIO()\n",
    "Vol_dat3.to_csv(csv_buffer,sep=\",\",index=False)\n",
    "s3=boto3.resource('s3')\n",
    "s3.Object('prod-sdc-tti-911061262852-us-east-1-bucket','abibeka/Vol_dat_Ln_Cls.csv').put(Body=csv_buffer.getvalue())"
   ]
  },
  {
   "cell_type": "code",
   "execution_count": null,
   "metadata": {},
   "outputs": [],
   "source": []
  }
 ],
 "metadata": {
  "kernelspec": {
   "display_name": "Python 2",
   "language": "python",
   "name": "python2"
  },
  "language_info": {
   "codemirror_mode": {
    "name": "ipython",
    "version": 2
   },
   "file_extension": ".py",
   "mimetype": "text/x-python",
   "name": "python",
   "nbconvert_exporter": "python",
   "pygments_lexer": "ipython2",
   "version": "2.7.15"
  }
 },
 "nbformat": 4,
 "nbformat_minor": 2
}
