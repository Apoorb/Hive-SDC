{
 "cells": [
  {
   "cell_type": "code",
   "execution_count": 2,
   "metadata": {
    "scrolled": true
   },
   "outputs": [],
   "source": [
    "import pandas as pd\n",
    "from pandas import Series\n",
    "import matplotlib as mpl\n",
    "from matplotlib import pyplot as plt\n",
    "import boto3 #Need to read and write files to aws s3 bucket\n",
    "from io import BytesIO as StringIO \n",
    "import numpy as np"
   ]
  },
  {
   "cell_type": "code",
   "execution_count": 4,
   "metadata": {},
   "outputs": [
    {
     "data": {
      "text/html": [
       "<div>\n",
       "<style scoped>\n",
       "    .dataframe tbody tr th:only-of-type {\n",
       "        vertical-align: middle;\n",
       "    }\n",
       "\n",
       "    .dataframe tbody tr th {\n",
       "        vertical-align: top;\n",
       "    }\n",
       "\n",
       "    .dataframe thead th {\n",
       "        text-align: right;\n",
       "    }\n",
       "</style>\n",
       "<table border=\"1\" class=\"dataframe\">\n",
       "  <thead>\n",
       "    <tr style=\"text-align: right;\">\n",
       "      <th></th>\n",
       "      <th>Milepost</th>\n",
       "      <th>DateTime</th>\n",
       "      <th>deviceId</th>\n",
       "      <th>AvgSpdClass0</th>\n",
       "      <th>AvgSpdClass1</th>\n",
       "      <th>AvgSpdClass2</th>\n",
       "      <th>AvgSpdClass3</th>\n",
       "      <th>VolClass0</th>\n",
       "      <th>VolClass1</th>\n",
       "      <th>VolClass2</th>\n",
       "      <th>...</th>\n",
       "      <th>avgwindgust</th>\n",
       "      <th>avgwinddir</th>\n",
       "      <th>setwinddir</th>\n",
       "      <th>setprecpints</th>\n",
       "      <th>avgprecprt</th>\n",
       "      <th>avgprecpaccm</th>\n",
       "      <th>avgvisft</th>\n",
       "      <th>setprecptyp</th>\n",
       "      <th>avgchempct</th>\n",
       "      <th>setsurfstat</th>\n",
       "    </tr>\n",
       "  </thead>\n",
       "  <tbody>\n",
       "    <tr>\n",
       "      <th>0</th>\n",
       "      <td>317.68</td>\n",
       "      <td>2018-02-01 00:05:00</td>\n",
       "      <td>396</td>\n",
       "      <td>0.0</td>\n",
       "      <td>70.780001</td>\n",
       "      <td>61.000000</td>\n",
       "      <td>61.526750</td>\n",
       "      <td>0</td>\n",
       "      <td>2</td>\n",
       "      <td>2</td>\n",
       "      <td>...</td>\n",
       "      <td>12.0</td>\n",
       "      <td>254.0</td>\n",
       "      <td>[\"W\",\"W\"]</td>\n",
       "      <td>[\"None\",\"None\"]</td>\n",
       "      <td>0.0</td>\n",
       "      <td>-99999.0</td>\n",
       "      <td>6560.0</td>\n",
       "      <td>[\"None\",\"None\"]</td>\n",
       "      <td>-99999.0</td>\n",
       "      <td>[\"Trace Moisture\",\"Trace Moisture\"]</td>\n",
       "    </tr>\n",
       "    <tr>\n",
       "      <th>1</th>\n",
       "      <td>317.68</td>\n",
       "      <td>2018-02-01 00:10:00</td>\n",
       "      <td>396</td>\n",
       "      <td>0.0</td>\n",
       "      <td>58.927500</td>\n",
       "      <td>72.236666</td>\n",
       "      <td>67.304667</td>\n",
       "      <td>0</td>\n",
       "      <td>4</td>\n",
       "      <td>3</td>\n",
       "      <td>...</td>\n",
       "      <td>10.0</td>\n",
       "      <td>260.0</td>\n",
       "      <td>[\"W\",\"W\"]</td>\n",
       "      <td>[\"None\",\"None\"]</td>\n",
       "      <td>0.0</td>\n",
       "      <td>-99999.0</td>\n",
       "      <td>6560.0</td>\n",
       "      <td>[\"None\",\"None\"]</td>\n",
       "      <td>-99999.0</td>\n",
       "      <td>[\"Trace Moisture\",\"Trace Moisture\"]</td>\n",
       "    </tr>\n",
       "    <tr>\n",
       "      <th>2</th>\n",
       "      <td>317.68</td>\n",
       "      <td>2018-02-01 00:15:00</td>\n",
       "      <td>396</td>\n",
       "      <td>0.0</td>\n",
       "      <td>70.224998</td>\n",
       "      <td>0.000000</td>\n",
       "      <td>62.865694</td>\n",
       "      <td>0</td>\n",
       "      <td>2</td>\n",
       "      <td>0</td>\n",
       "      <td>...</td>\n",
       "      <td>9.0</td>\n",
       "      <td>261.0</td>\n",
       "      <td>[\"W\",\"W\"]</td>\n",
       "      <td>[\"None\",\"None\"]</td>\n",
       "      <td>0.0</td>\n",
       "      <td>-99999.0</td>\n",
       "      <td>6560.0</td>\n",
       "      <td>[\"None\",\"None\"]</td>\n",
       "      <td>-99999.0</td>\n",
       "      <td>[\"Trace Moisture\",\"Trace Moisture\"]</td>\n",
       "    </tr>\n",
       "    <tr>\n",
       "      <th>3</th>\n",
       "      <td>317.68</td>\n",
       "      <td>2018-02-01 00:20:00</td>\n",
       "      <td>396</td>\n",
       "      <td>0.0</td>\n",
       "      <td>68.897777</td>\n",
       "      <td>64.847499</td>\n",
       "      <td>63.055002</td>\n",
       "      <td>0</td>\n",
       "      <td>5</td>\n",
       "      <td>3</td>\n",
       "      <td>...</td>\n",
       "      <td>9.0</td>\n",
       "      <td>256.0</td>\n",
       "      <td>[\"W\",\"W\"]</td>\n",
       "      <td>[\"Slight\",\"Slight\"]</td>\n",
       "      <td>0.0</td>\n",
       "      <td>-99999.0</td>\n",
       "      <td>6560.0</td>\n",
       "      <td>[\"Snow\",\"Snow\"]</td>\n",
       "      <td>-99999.0</td>\n",
       "      <td>[\"Trace Moisture\",\"Trace Moisture\"]</td>\n",
       "    </tr>\n",
       "    <tr>\n",
       "      <th>4</th>\n",
       "      <td>317.68</td>\n",
       "      <td>2018-02-01 00:25:00</td>\n",
       "      <td>396</td>\n",
       "      <td>0.0</td>\n",
       "      <td>64.570000</td>\n",
       "      <td>0.000000</td>\n",
       "      <td>66.067500</td>\n",
       "      <td>0</td>\n",
       "      <td>1</td>\n",
       "      <td>0</td>\n",
       "      <td>...</td>\n",
       "      <td>9.0</td>\n",
       "      <td>250.0</td>\n",
       "      <td>[\"W\",\"W\"]</td>\n",
       "      <td>[\"Slight\",\"Slight\"]</td>\n",
       "      <td>0.0</td>\n",
       "      <td>-99999.0</td>\n",
       "      <td>6000.0</td>\n",
       "      <td>[\"Snow\",\"Snow\"]</td>\n",
       "      <td>-99999.0</td>\n",
       "      <td>[\"Trace Moisture\",\"Trace Moisture\"]</td>\n",
       "    </tr>\n",
       "  </tbody>\n",
       "</table>\n",
       "<p>5 rows × 31 columns</p>\n",
       "</div>"
      ],
      "text/plain": [
       "   Milepost             DateTime  deviceId  AvgSpdClass0  AvgSpdClass1  \\\n",
       "0    317.68  2018-02-01 00:05:00       396           0.0     70.780001   \n",
       "1    317.68  2018-02-01 00:10:00       396           0.0     58.927500   \n",
       "2    317.68  2018-02-01 00:15:00       396           0.0     70.224998   \n",
       "3    317.68  2018-02-01 00:20:00       396           0.0     68.897777   \n",
       "4    317.68  2018-02-01 00:25:00       396           0.0     64.570000   \n",
       "\n",
       "   AvgSpdClass2  AvgSpdClass3  VolClass0  VolClass1  VolClass2  \\\n",
       "0     61.000000     61.526750          0          2          2   \n",
       "1     72.236666     67.304667          0          4          3   \n",
       "2      0.000000     62.865694          0          2          0   \n",
       "3     64.847499     63.055002          0          5          3   \n",
       "4      0.000000     66.067500          0          1          0   \n",
       "\n",
       "                  ...                   avgwindgust avgwinddir setwinddir  \\\n",
       "0                 ...                          12.0      254.0  [\"W\",\"W\"]   \n",
       "1                 ...                          10.0      260.0  [\"W\",\"W\"]   \n",
       "2                 ...                           9.0      261.0  [\"W\",\"W\"]   \n",
       "3                 ...                           9.0      256.0  [\"W\",\"W\"]   \n",
       "4                 ...                           9.0      250.0  [\"W\",\"W\"]   \n",
       "\n",
       "          setprecpints  avgprecprt avgprecpaccm  avgvisft      setprecptyp  \\\n",
       "0      [\"None\",\"None\"]         0.0     -99999.0    6560.0  [\"None\",\"None\"]   \n",
       "1      [\"None\",\"None\"]         0.0     -99999.0    6560.0  [\"None\",\"None\"]   \n",
       "2      [\"None\",\"None\"]         0.0     -99999.0    6560.0  [\"None\",\"None\"]   \n",
       "3  [\"Slight\",\"Slight\"]         0.0     -99999.0    6560.0  [\"Snow\",\"Snow\"]   \n",
       "4  [\"Slight\",\"Slight\"]         0.0     -99999.0    6000.0  [\"Snow\",\"Snow\"]   \n",
       "\n",
       "   avgchempct                          setsurfstat  \n",
       "0    -99999.0  [\"Trace Moisture\",\"Trace Moisture\"]  \n",
       "1    -99999.0  [\"Trace Moisture\",\"Trace Moisture\"]  \n",
       "2    -99999.0  [\"Trace Moisture\",\"Trace Moisture\"]  \n",
       "3    -99999.0  [\"Trace Moisture\",\"Trace Moisture\"]  \n",
       "4    -99999.0  [\"Trace Moisture\",\"Trace Moisture\"]  \n",
       "\n",
       "[5 rows x 31 columns]"
      ]
     },
     "execution_count": 4,
     "metadata": {},
     "output_type": "execute_result"
    }
   ],
   "source": [
    "#Data I got from a Report\n",
    "client=boto3.client('s3')\n",
    "obj=client.get_object(Bucket='prod-sdc-tti-911061262852-us-east-1-bucket',Key='abibeka/Data/MergeRwisVolDat.csv')\n",
    "dat=pd.read_csv(obj['Body'])\n",
    "dat=dat.drop(columns='Unnamed: 0')\n",
    "dat.head()"
   ]
  },
  {
   "cell_type": "code",
   "execution_count": 5,
   "metadata": {
    "scrolled": true
   },
   "outputs": [],
   "source": [
    "#dat=dat.set_index(keys=['deviceId','DateTime'])\n",
    "#dat.head()"
   ]
  },
  {
   "cell_type": "code",
   "execution_count": 7,
   "metadata": {
    "scrolled": true
   },
   "outputs": [
    {
     "data": {
      "image/png": "[encoded data removed]",
      "text/plain": [
       "<Figure size 432x288 with 1 Axes>"
      ]
     },
     "metadata": {},
     "output_type": "display_data"
    }
   ],
   "source": [
    "(Series(dat[dat.deviceId==384].TotVeh)).plot()\n",
    "plt.xticks(rotation=45)\n",
    "plt.style.use('seaborn-darkgrid')\n",
    "plt.show()\n",
    "#ax.set_xlim('2018-02-01 00:00:00','2018-02-28 00:00:00')"
   ]
  },
  {
   "cell_type": "code",
   "execution_count": 12,
   "metadata": {},
   "outputs": [
    {
     "data": {
      "text/html": [
       "<div>\n",
       "<style scoped>\n",
       "    .dataframe tbody tr th:only-of-type {\n",
       "        vertical-align: middle;\n",
       "    }\n",
       "\n",
       "    .dataframe tbody tr th {\n",
       "        vertical-align: top;\n",
       "    }\n",
       "\n",
       "    .dataframe thead th {\n",
       "        text-align: right;\n",
       "    }\n",
       "</style>\n",
       "<table border=\"1\" class=\"dataframe\">\n",
       "  <thead>\n",
       "    <tr style=\"text-align: right;\">\n",
       "      <th></th>\n",
       "      <th>Milepost</th>\n",
       "      <th>DateTime</th>\n",
       "      <th>TotVeh</th>\n",
       "    </tr>\n",
       "  </thead>\n",
       "  <tbody>\n",
       "    <tr>\n",
       "      <th>0</th>\n",
       "      <td>317.68</td>\n",
       "      <td>2018-02-01 00:05:00</td>\n",
       "      <td>13</td>\n",
       "    </tr>\n",
       "    <tr>\n",
       "      <th>1</th>\n",
       "      <td>317.68</td>\n",
       "      <td>2018-02-01 00:10:00</td>\n",
       "      <td>22</td>\n",
       "    </tr>\n",
       "    <tr>\n",
       "      <th>2</th>\n",
       "      <td>317.68</td>\n",
       "      <td>2018-02-01 00:15:00</td>\n",
       "      <td>15</td>\n",
       "    </tr>\n",
       "    <tr>\n",
       "      <th>3</th>\n",
       "      <td>317.68</td>\n",
       "      <td>2018-02-01 00:20:00</td>\n",
       "      <td>14</td>\n",
       "    </tr>\n",
       "    <tr>\n",
       "      <th>4</th>\n",
       "      <td>317.68</td>\n",
       "      <td>2018-02-01 00:25:00</td>\n",
       "      <td>12</td>\n",
       "    </tr>\n",
       "  </tbody>\n",
       "</table>\n",
       "</div>"
      ],
      "text/plain": [
       "   Milepost             DateTime  TotVeh\n",
       "0    317.68  2018-02-01 00:05:00      13\n",
       "1    317.68  2018-02-01 00:10:00      22\n",
       "2    317.68  2018-02-01 00:15:00      15\n",
       "3    317.68  2018-02-01 00:20:00      14\n",
       "4    317.68  2018-02-01 00:25:00      12"
      ]
     },
     "execution_count": 12,
     "metadata": {},
     "output_type": "execute_result"
    }
   ],
   "source": [
    "dat2 = dat.loc[:,['Milepost','DateTime','TotVeh']].copy()\n",
    "dat2.head()"
   ]
  },
  {
   "cell_type": "code",
   "execution_count": 25,
   "metadata": {},
   "outputs": [],
   "source": [
    "HeatMapDat=pd.pivot_table(dat2,index='Milepost',columns='DateTime',values='TotVeh').values"
   ]
  },
  {
   "cell_type": "code",
   "execution_count": 30,
   "metadata": {},
   "outputs": [],
   "source": [
    "HeatMapDat_NP=np.array(HeatMapDat)"
   ]
  },
  {
   "cell_type": "code",
   "execution_count": 34,
   "metadata": {},
   "outputs": [
    {
     "data": {
      "image/png": "[encoded data removed]",
      "text/plain": [
       "<Figure size 432x288 with 1 Axes>"
      ]
     },
     "metadata": {},
     "output_type": "display_data"
    }
   ],
   "source": [
    "fig,ax=plt.subplots()\n",
    "im=ax.imshow(HeatMapDat_NP,cmap='hot')\n",
    "fig.tight_layout()\n",
    "plt.show()"
   ]
  },
  {
   "cell_type": "code",
   "execution_count": 5,
   "metadata": {
    "scrolled": true
   },
   "outputs": [
    {
     "name": "stdout",
     "output_type": "stream",
     "text": [
      "['bmh', 'classic', 'dark_background', 'fast', 'fivethirtyeight', 'ggplot', 'grayscale', 'seaborn-bright', 'seaborn-colorblind', 'seaborn-dark-palette', 'seaborn-dark', 'seaborn-darkgrid', 'seaborn-deep', 'seaborn-muted', 'seaborn-notebook', 'seaborn-paper', 'seaborn-pastel', 'seaborn-poster', 'seaborn-talk', 'seaborn-ticks', 'seaborn-white', 'seaborn-whitegrid', 'seaborn', 'Solarize_Light2', 'tableau-colorblind10', '_classic_test']\n"
     ]
    }
   ],
   "source": [
    "print(plt.style.available)"
   ]
  },
  {
   "cell_type": "code",
   "execution_count": 6,
   "metadata": {},
   "outputs": [],
   "source": [
    "plt.close()"
   ]
  },
  {
   "cell_type": "code",
   "execution_count": 11,
   "metadata": {
    "scrolled": true
   },
   "outputs": [
    {
     "data": {
      "image/png": "[encoded data removed]",
      "text/plain": [
       "<Figure size 432x288 with 1 Axes>"
      ]
     },
     "metadata": {},
     "output_type": "display_data"
    }
   ],
   "source": [
    "sns.lineplot(data=dat.loc[384].TotVeh)\n",
    "plt.show()"
   ]
  },
  {
   "cell_type": "code",
   "execution_count": null,
   "metadata": {},
   "outputs": [],
   "source": []
  }
 ],
 "metadata": {
  "kernelspec": {
   "display_name": "Python 2",
   "language": "python",
   "name": "python2"
  },
  "language_info": {
   "codemirror_mode": {
    "name": "ipython",
    "version": 2
   },
   "file_extension": ".py",
   "mimetype": "text/x-python",
   "name": "python",
   "nbconvert_exporter": "python",
   "pygments_lexer": "ipython2",
   "version": "2.7.15"
  }
 },
 "nbformat": 4,
 "nbformat_minor": 2
}
