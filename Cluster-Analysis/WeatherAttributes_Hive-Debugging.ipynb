{
 "cells": [
  {
   "cell_type": "markdown",
   "metadata": {},
   "source": [
    "# Get 5 min frequency for weather attributes for Feb 2018 from RWIS_atmos and RWIS_surface"
   ]
  },
  {
   "cell_type": "markdown",
   "metadata": {},
   "source": [
    "    Created by: Apoorba Bibeka\n",
    "    Date: April 24, 2019"
   ]
  },
  {
   "cell_type": "code",
   "execution_count": 15,
   "metadata": {},
   "outputs": [],
   "source": [
    "import getpass\n",
    "import boto3\n",
    "import pandas as pd\n",
    "from impala.dbapi import connect\n",
    "from impala.util import as_pandas\n",
    "from io import BytesIO as StringIO\n",
    "import numpy as np\n",
    "from matplotlib import pyplot as plt\n",
    "from pandas import Series\n"
   ]
  },
  {
   "cell_type": "markdown",
   "metadata": {},
   "source": [
    "## Connect to the database"
   ]
  },
  {
   "cell_type": "code",
   "execution_count": 2,
   "metadata": {},
   "outputs": [
    {
     "name": "stdout",
     "output_type": "stream",
     "text": [
      "········\n"
     ]
    }
   ],
   "source": [
    "username = \"abibeka@securedatacommons.com\"\n",
    "password1 = getpass.getpass()\n",
    "conn = connect(host=\"172.18.1.20\",auth_mechanism='PLAIN',port=10000,user=username, password=password1)"
   ]
  },
  {
   "cell_type": "code",
   "execution_count": 3,
   "metadata": {},
   "outputs": [],
   "source": [
    "cursor = conn.cursor()"
   ]
  },
  {
   "cell_type": "code",
   "execution_count": 4,
   "metadata": {},
   "outputs": [],
   "source": [
    "# wydot_rwis_atmos has bad naming convention. local is a keyword in HIVE\n",
    "#but is also used as a variable name. Thus use `` for accessing local."
   ]
  },
  {
   "cell_type": "code",
   "execution_count": 5,
   "metadata": {},
   "outputs": [
    {
     "name": "stdout",
     "output_type": "stream",
     "text": [
      "[383L, 393L, 394L, 395L, 396L, 384L, 385L, 1839L, 386L, 2146L, 2147L, 2178L, 2191L, 387L, 2202L, 2213L, 2246L, 2263L, 2274L, 2289L, 2298L, 2310L, 2319L, 388L, 389L, 3654L, 390L, 3911L, 391L]\n"
     ]
    }
   ],
   "source": [
    "cursor = conn.cursor()\n",
    "cursor.execute('''select deviceid from wydot_speed_sensors_index\n",
    "               where milepost between 314 and 360''')\n",
    "# Store the index data tanle\n",
    "SSindex = as_pandas(cursor)\n",
    "SSindexL=SSindex.deviceid.tolist()\n",
    "print(SSindexL)"
   ]
  },
  {
   "cell_type": "markdown",
   "metadata": {},
   "source": [
    "## Find the corresponding primary and secondary weather stations for speed sensor stations"
   ]
  },
  {
   "cell_type": "code",
   "execution_count": 6,
   "metadata": {},
   "outputs": [
    {
     "name": "stdout",
     "output_type": "stream",
     "text": [
      "([1354, 36, 1354, 1354, 1354, 1354, 1354, 3451, 3422, 1354, 1354, 36, 3422, 343, 3422, 3422, 1366, 1366, 3443, 3443, 3443, 3443, 3451, 343, 343, 1354, 1366, 1354, 1366, 36, 3422, 36, 36, 36, 36, 36, 3443, 343, 36, 36, 3422, 343, 3422, 343, 343, 343, 3443, 1366, 1366, 3451, 3451, 3443, 3422, 1366, 36, 343, 36, 3443], 7)\n"
     ]
    }
   ],
   "source": [
    "q1='''SELECT deviceid, nearest_rwis, rwis, backup_rwis\n",
    "        from wydot_speed_sensors_index'''\n",
    "cursor.execute(q1)\n",
    "dat=as_pandas(cursor)\n",
    "dat1=dat[dat['deviceid'].isin(SSindexL)].copy()\n",
    "rwis_sta=dat1.nearest_rwis.tolist()+dat1.backup_rwis.tolist()\n",
    "rwis_sta = [int(x.strip('R00')) for x in rwis_sta]\n",
    "print(rwis_sta,len(np.unique(rwis_sta)))"
   ]
  },
  {
   "cell_type": "markdown",
   "metadata": {},
   "source": [
    "## Remove the timezone ('-6:00' or '-7:00') from the end.\n",
    "## Remove 'T' from between the date and time.\n",
    "\n",
    "Figure out what to do with precip_type"
   ]
  },
  {
   "cell_type": "code",
   "execution_count": 32,
   "metadata": {},
   "outputs": [],
   "source": [
    "timefilter=\"FROM_UNIXTIME(CEILING(UNIX_TIMESTAMP(regexp_replace(regexp_replace(`local`,'-0[67]:00$',''),'T',' '))/300)*300)\"\n",
    "start_date='2018-02-01'\n",
    "end_date='2018-03-01' \n",
    "q1='''Select COUNT(*) AS ObsCount, {} AS Time5M\n",
    "    FROM wydot_rwis_atmos \n",
    "    WHERE deviceid IN {} AND {} BETWEEN '{}' AND '{}'\n",
    "    GROUP BY deviceid, {}'''.format(timefilter,tuple(rwis_sta),timefilter,start_date, end_date,timefilter)\n",
    "cursor.execute(q1)\n",
    "Xdat=as_pandas(cursor)"
   ]
  },
  {
   "cell_type": "code",
   "execution_count": 33,
   "metadata": {},
   "outputs": [
    {
     "data": {
      "text/html": [
       "<div>\n",
       "<style scoped>\n",
       "    .dataframe tbody tr th:only-of-type {\n",
       "        vertical-align: middle;\n",
       "    }\n",
       "\n",
       "    .dataframe tbody tr th {\n",
       "        vertical-align: top;\n",
       "    }\n",
       "\n",
       "    .dataframe thead th {\n",
       "        text-align: right;\n",
       "    }\n",
       "</style>\n",
       "<table border=\"1\" class=\"dataframe\">\n",
       "  <thead>\n",
       "    <tr style=\"text-align: right;\">\n",
       "      <th></th>\n",
       "      <th>obscount</th>\n",
       "      <th>time5m</th>\n",
       "    </tr>\n",
       "  </thead>\n",
       "  <tbody>\n",
       "    <tr>\n",
       "      <th>0</th>\n",
       "      <td>2</td>\n",
       "      <td>2018-02-01 00:00:00</td>\n",
       "    </tr>\n",
       "    <tr>\n",
       "      <th>1</th>\n",
       "      <td>2</td>\n",
       "      <td>2018-02-01 00:05:00</td>\n",
       "    </tr>\n",
       "    <tr>\n",
       "      <th>2</th>\n",
       "      <td>2</td>\n",
       "      <td>2018-02-01 00:10:00</td>\n",
       "    </tr>\n",
       "    <tr>\n",
       "      <th>3</th>\n",
       "      <td>2</td>\n",
       "      <td>2018-02-01 00:15:00</td>\n",
       "    </tr>\n",
       "    <tr>\n",
       "      <th>4</th>\n",
       "      <td>2</td>\n",
       "      <td>2018-02-01 00:20:00</td>\n",
       "    </tr>\n",
       "  </tbody>\n",
       "</table>\n",
       "</div>"
      ],
      "text/plain": [
       "   obscount               time5m\n",
       "0         2  2018-02-01 00:00:00\n",
       "1         2  2018-02-01 00:05:00\n",
       "2         2  2018-02-01 00:10:00\n",
       "3         2  2018-02-01 00:15:00\n",
       "4         2  2018-02-01 00:20:00"
      ]
     },
     "execution_count": 33,
     "metadata": {},
     "output_type": "execute_result"
    }
   ],
   "source": [
    "Xdat.head()"
   ]
  },
  {
   "cell_type": "code",
   "execution_count": 34,
   "metadata": {},
   "outputs": [
    {
     "data": {
      "image/png": "[encoded data removed]",
      "text/plain": [
       "<Figure size 432x288 with 1 Axes>"
      ]
     },
     "metadata": {
      "needs_background": "light"
     },
     "output_type": "display_data"
    }
   ],
   "source": [
    "plt.hist(Xdat.obscount)\n",
    "plt.title(\"Frequency RWIS Atmos Data\")\n",
    "plt.show()"
   ]
  },
  {
   "cell_type": "code",
   "execution_count": 35,
   "metadata": {},
   "outputs": [
    {
     "data": {
      "text/plain": [
       "2    39693\n",
       "4      217\n",
       "6        3\n",
       "Name: obscount, dtype: int64"
      ]
     },
     "execution_count": 35,
     "metadata": {},
     "output_type": "execute_result"
    }
   ],
   "source": [
    "Xdat.obscount.value_counts()"
   ]
  },
  {
   "cell_type": "code",
   "execution_count": 36,
   "metadata": {},
   "outputs": [],
   "source": [
    "timefilter=\"FROM_UNIXTIME(CEILING(UNIX_TIMESTAMP(regexp_replace(regexp_replace(`local`,'-0[67]:00$',''),'T',' '))/300)*300)\"\n",
    "start_date='2018-02-01'\n",
    "end_date='2018-03-01' \n",
    "q1='''Select COUNT(*) AS ObsCount, {} AS Time5M\n",
    "    FROM wydot_rwis_surface \n",
    "    WHERE deviceid IN {} AND {} BETWEEN '{}' AND '{}'\n",
    "    GROUP BY deviceid, {}'''.format(timefilter,tuple(rwis_sta),timefilter,start_date, end_date,timefilter)\n",
    "cursor.execute(q1)\n",
    "Xdat1=as_pandas(cursor)"
   ]
  },
  {
   "cell_type": "code",
   "execution_count": 37,
   "metadata": {},
   "outputs": [
    {
     "data": {
      "image/png": "[encoded data removed]",
      "text/plain": [
       "<Figure size 432x288 with 1 Axes>"
      ]
     },
     "metadata": {
      "needs_background": "light"
     },
     "output_type": "display_data"
    }
   ],
   "source": [
    "plt.hist(Xdat1.obscount)\n",
    "plt.title(\"Frequency RWIS Surface Data\")\n",
    "plt.show()"
   ]
  },
  {
   "cell_type": "code",
   "execution_count": 38,
   "metadata": {
    "scrolled": true
   },
   "outputs": [
    {
     "data": {
      "text/plain": [
       "2     23688\n",
       "4     15922\n",
       "8        76\n",
       "6        26\n",
       "10       15\n",
       "12        7\n",
       "16        5\n",
       "18        4\n",
       "14        4\n",
       "22        1\n",
       "Name: obscount, dtype: int64"
      ]
     },
     "execution_count": 38,
     "metadata": {},
     "output_type": "execute_result"
    }
   ],
   "source": [
    "Xdat1.obscount.value_counts()"
   ]
  },
  {
   "cell_type": "code",
   "execution_count": 39,
   "metadata": {},
   "outputs": [
    {
     "data": {
      "text/plain": [
       "(39748, 2)"
      ]
     },
     "execution_count": 39,
     "metadata": {},
     "output_type": "execute_result"
    }
   ],
   "source": [
    "Xdat1.shape"
   ]
  },
  {
   "cell_type": "code",
   "execution_count": 40,
   "metadata": {},
   "outputs": [
    {
     "data": {
      "text/plain": [
       "(39913, 2)"
      ]
     },
     "execution_count": 40,
     "metadata": {},
     "output_type": "execute_result"
    }
   ],
   "source": [
    "Xdat.shape"
   ]
  },
  {
   "cell_type": "code",
   "execution_count": null,
   "metadata": {},
   "outputs": [],
   "source": []
  },
  {
   "cell_type": "code",
   "execution_count": null,
   "metadata": {},
   "outputs": [],
   "source": []
  }
 ],
 "metadata": {
  "kernelspec": {
   "display_name": "Python 2",
   "language": "python",
   "name": "python2"
  },
  "language_info": {
   "codemirror_mode": {
    "name": "ipython",
    "version": 2
   },
   "file_extension": ".py",
   "mimetype": "text/x-python",
   "name": "python",
   "nbconvert_exporter": "python",
   "pygments_lexer": "ipython2",
   "version": "2.7.15"
  }
 },
 "nbformat": 4,
 "nbformat_minor": 2
}
