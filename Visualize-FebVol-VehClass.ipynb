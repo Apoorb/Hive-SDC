{
 "cells": [
  {
   "cell_type": "code",
   "execution_count": 1,
   "metadata": {
    "scrolled": true
   },
   "outputs": [],
   "source": [
    "import pandas as pd\n",
    "from pandas import Series\n",
    "import matplotlib as mpl\n",
    "from matplotlib import pyplot as plt\n",
    "import boto3 #Need to read and write files to aws s3 bucket\n",
    "from io import BytesIO as StringIO \n",
    "import numpy as np\n",
    "import seaborn as sns"
   ]
  },
  {
   "cell_type": "code",
   "execution_count": 2,
   "metadata": {},
   "outputs": [
    {
     "data": {
      "text/html": [
       "<div>\n",
       "<style scoped>\n",
       "    .dataframe tbody tr th:only-of-type {\n",
       "        vertical-align: middle;\n",
       "    }\n",
       "\n",
       "    .dataframe tbody tr th {\n",
       "        vertical-align: top;\n",
       "    }\n",
       "\n",
       "    .dataframe thead th {\n",
       "        text-align: right;\n",
       "    }\n",
       "</style>\n",
       "<table border=\"1\" class=\"dataframe\">\n",
       "  <thead>\n",
       "    <tr style=\"text-align: right;\">\n",
       "      <th></th>\n",
       "      <th>deviceId</th>\n",
       "      <th>DateTime</th>\n",
       "      <th>VehClass0</th>\n",
       "      <th>VehClass1</th>\n",
       "      <th>VehClass2</th>\n",
       "      <th>VehClass3</th>\n",
       "      <th>SITENAME</th>\n",
       "      <th>Milepost</th>\n",
       "      <th>Direction</th>\n",
       "      <th>TotVeh</th>\n",
       "      <th>PerHGV</th>\n",
       "    </tr>\n",
       "  </thead>\n",
       "  <tbody>\n",
       "    <tr>\n",
       "      <th>0</th>\n",
       "      <td>384</td>\n",
       "      <td>2018-02-01 00:05:00</td>\n",
       "      <td>0</td>\n",
       "      <td>2</td>\n",
       "      <td>2</td>\n",
       "      <td>16</td>\n",
       "      <td>Summit East</td>\n",
       "      <td>325.8</td>\n",
       "      <td>WB</td>\n",
       "      <td>20</td>\n",
       "      <td>80.00</td>\n",
       "    </tr>\n",
       "    <tr>\n",
       "      <th>1</th>\n",
       "      <td>384</td>\n",
       "      <td>2018-02-01 00:10:00</td>\n",
       "      <td>0</td>\n",
       "      <td>0</td>\n",
       "      <td>2</td>\n",
       "      <td>7</td>\n",
       "      <td>Summit East</td>\n",
       "      <td>325.8</td>\n",
       "      <td>WB</td>\n",
       "      <td>9</td>\n",
       "      <td>77.78</td>\n",
       "    </tr>\n",
       "    <tr>\n",
       "      <th>2</th>\n",
       "      <td>384</td>\n",
       "      <td>2018-02-01 00:15:00</td>\n",
       "      <td>0</td>\n",
       "      <td>3</td>\n",
       "      <td>3</td>\n",
       "      <td>11</td>\n",
       "      <td>Summit East</td>\n",
       "      <td>325.8</td>\n",
       "      <td>WB</td>\n",
       "      <td>17</td>\n",
       "      <td>64.71</td>\n",
       "    </tr>\n",
       "    <tr>\n",
       "      <th>3</th>\n",
       "      <td>384</td>\n",
       "      <td>2018-02-01 00:20:00</td>\n",
       "      <td>0</td>\n",
       "      <td>0</td>\n",
       "      <td>4</td>\n",
       "      <td>13</td>\n",
       "      <td>Summit East</td>\n",
       "      <td>325.8</td>\n",
       "      <td>WB</td>\n",
       "      <td>17</td>\n",
       "      <td>76.47</td>\n",
       "    </tr>\n",
       "    <tr>\n",
       "      <th>4</th>\n",
       "      <td>384</td>\n",
       "      <td>2018-02-01 00:25:00</td>\n",
       "      <td>0</td>\n",
       "      <td>2</td>\n",
       "      <td>0</td>\n",
       "      <td>8</td>\n",
       "      <td>Summit East</td>\n",
       "      <td>325.8</td>\n",
       "      <td>WB</td>\n",
       "      <td>10</td>\n",
       "      <td>80.00</td>\n",
       "    </tr>\n",
       "  </tbody>\n",
       "</table>\n",
       "</div>"
      ],
      "text/plain": [
       "   deviceId             DateTime  VehClass0  VehClass1  VehClass2  VehClass3  \\\n",
       "0       384  2018-02-01 00:05:00          0          2          2         16   \n",
       "1       384  2018-02-01 00:10:00          0          0          2          7   \n",
       "2       384  2018-02-01 00:15:00          0          3          3         11   \n",
       "3       384  2018-02-01 00:20:00          0          0          4         13   \n",
       "4       384  2018-02-01 00:25:00          0          2          0          8   \n",
       "\n",
       "      SITENAME  Milepost Direction  TotVeh  PerHGV  \n",
       "0  Summit East     325.8        WB      20   80.00  \n",
       "1  Summit East     325.8        WB       9   77.78  \n",
       "2  Summit East     325.8        WB      17   64.71  \n",
       "3  Summit East     325.8        WB      17   76.47  \n",
       "4  Summit East     325.8        WB      10   80.00  "
      ]
     },
     "execution_count": 2,
     "metadata": {},
     "output_type": "execute_result"
    }
   ],
   "source": [
    "#Data I got from a Report\n",
    "client=boto3.client('s3')\n",
    "obj=client.get_object(Bucket='prod-sdc-tti-911061262852-us-east-1-bucket',Key='abibeka/Data/ProcessVolDat_Class.csv')\n",
    "dat=pd.read_csv(obj['Body'])\n",
    "dat.head()"
   ]
  },
  {
   "cell_type": "code",
   "execution_count": 3,
   "metadata": {
    "scrolled": true
   },
   "outputs": [
    {
     "data": {
      "text/html": [
       "<div>\n",
       "<style scoped>\n",
       "    .dataframe tbody tr th:only-of-type {\n",
       "        vertical-align: middle;\n",
       "    }\n",
       "\n",
       "    .dataframe tbody tr th {\n",
       "        vertical-align: top;\n",
       "    }\n",
       "\n",
       "    .dataframe thead th {\n",
       "        text-align: right;\n",
       "    }\n",
       "</style>\n",
       "<table border=\"1\" class=\"dataframe\">\n",
       "  <thead>\n",
       "    <tr style=\"text-align: right;\">\n",
       "      <th></th>\n",
       "      <th></th>\n",
       "      <th>VehClass0</th>\n",
       "      <th>VehClass1</th>\n",
       "      <th>VehClass2</th>\n",
       "      <th>VehClass3</th>\n",
       "      <th>SITENAME</th>\n",
       "      <th>Milepost</th>\n",
       "      <th>Direction</th>\n",
       "      <th>TotVeh</th>\n",
       "      <th>PerHGV</th>\n",
       "    </tr>\n",
       "    <tr>\n",
       "      <th>deviceId</th>\n",
       "      <th>DateTime</th>\n",
       "      <th></th>\n",
       "      <th></th>\n",
       "      <th></th>\n",
       "      <th></th>\n",
       "      <th></th>\n",
       "      <th></th>\n",
       "      <th></th>\n",
       "      <th></th>\n",
       "      <th></th>\n",
       "    </tr>\n",
       "  </thead>\n",
       "  <tbody>\n",
       "    <tr>\n",
       "      <th rowspan=\"5\" valign=\"top\">384</th>\n",
       "      <th>2018-02-01 00:05:00</th>\n",
       "      <td>0</td>\n",
       "      <td>2</td>\n",
       "      <td>2</td>\n",
       "      <td>16</td>\n",
       "      <td>Summit East</td>\n",
       "      <td>325.8</td>\n",
       "      <td>WB</td>\n",
       "      <td>20</td>\n",
       "      <td>80.00</td>\n",
       "    </tr>\n",
       "    <tr>\n",
       "      <th>2018-02-01 00:10:00</th>\n",
       "      <td>0</td>\n",
       "      <td>0</td>\n",
       "      <td>2</td>\n",
       "      <td>7</td>\n",
       "      <td>Summit East</td>\n",
       "      <td>325.8</td>\n",
       "      <td>WB</td>\n",
       "      <td>9</td>\n",
       "      <td>77.78</td>\n",
       "    </tr>\n",
       "    <tr>\n",
       "      <th>2018-02-01 00:15:00</th>\n",
       "      <td>0</td>\n",
       "      <td>3</td>\n",
       "      <td>3</td>\n",
       "      <td>11</td>\n",
       "      <td>Summit East</td>\n",
       "      <td>325.8</td>\n",
       "      <td>WB</td>\n",
       "      <td>17</td>\n",
       "      <td>64.71</td>\n",
       "    </tr>\n",
       "    <tr>\n",
       "      <th>2018-02-01 00:20:00</th>\n",
       "      <td>0</td>\n",
       "      <td>0</td>\n",
       "      <td>4</td>\n",
       "      <td>13</td>\n",
       "      <td>Summit East</td>\n",
       "      <td>325.8</td>\n",
       "      <td>WB</td>\n",
       "      <td>17</td>\n",
       "      <td>76.47</td>\n",
       "    </tr>\n",
       "    <tr>\n",
       "      <th>2018-02-01 00:25:00</th>\n",
       "      <td>0</td>\n",
       "      <td>2</td>\n",
       "      <td>0</td>\n",
       "      <td>8</td>\n",
       "      <td>Summit East</td>\n",
       "      <td>325.8</td>\n",
       "      <td>WB</td>\n",
       "      <td>10</td>\n",
       "      <td>80.00</td>\n",
       "    </tr>\n",
       "  </tbody>\n",
       "</table>\n",
       "</div>"
      ],
      "text/plain": [
       "                              VehClass0  VehClass1  VehClass2  VehClass3  \\\n",
       "deviceId DateTime                                                          \n",
       "384      2018-02-01 00:05:00          0          2          2         16   \n",
       "         2018-02-01 00:10:00          0          0          2          7   \n",
       "         2018-02-01 00:15:00          0          3          3         11   \n",
       "         2018-02-01 00:20:00          0          0          4         13   \n",
       "         2018-02-01 00:25:00          0          2          0          8   \n",
       "\n",
       "                                 SITENAME  Milepost Direction  TotVeh  PerHGV  \n",
       "deviceId DateTime                                                              \n",
       "384      2018-02-01 00:05:00  Summit East     325.8        WB      20   80.00  \n",
       "         2018-02-01 00:10:00  Summit East     325.8        WB       9   77.78  \n",
       "         2018-02-01 00:15:00  Summit East     325.8        WB      17   64.71  \n",
       "         2018-02-01 00:20:00  Summit East     325.8        WB      17   76.47  \n",
       "         2018-02-01 00:25:00  Summit East     325.8        WB      10   80.00  "
      ]
     },
     "execution_count": 3,
     "metadata": {},
     "output_type": "execute_result"
    }
   ],
   "source": [
    "dat=dat.set_index(keys=['deviceId','DateTime'])\n",
    "dat.head()"
   ]
  },
  {
   "cell_type": "code",
   "execution_count": 4,
   "metadata": {
    "scrolled": true
   },
   "outputs": [
    {
     "data": {
      "image/png": "[encoded data removed]",
      "text/plain": [
       "<Figure size 432x288 with 1 Axes>"
      ]
     },
     "metadata": {
      "needs_background": "light"
     },
     "output_type": "display_data"
    }
   ],
   "source": [
    "(Series(dat.loc[384].TotVeh)).plot()\n",
    "plt.xticks(rotation=45)\n",
    "plt.style.use('seaborn-darkgrid')\n",
    "plt.show()\n",
    "#ax.set_xlim('2018-02-01 00:00:00','2018-02-28 00:00:00')"
   ]
  },
  {
   "cell_type": "code",
   "execution_count": 5,
   "metadata": {
    "scrolled": true
   },
   "outputs": [
    {
     "name": "stdout",
     "output_type": "stream",
     "text": [
      "['bmh', 'classic', 'dark_background', 'fast', 'fivethirtyeight', 'ggplot', 'grayscale', 'seaborn-bright', 'seaborn-colorblind', 'seaborn-dark-palette', 'seaborn-dark', 'seaborn-darkgrid', 'seaborn-deep', 'seaborn-muted', 'seaborn-notebook', 'seaborn-paper', 'seaborn-pastel', 'seaborn-poster', 'seaborn-talk', 'seaborn-ticks', 'seaborn-white', 'seaborn-whitegrid', 'seaborn', 'Solarize_Light2', 'tableau-colorblind10', '_classic_test']\n"
     ]
    }
   ],
   "source": [
    "print(plt.style.available)"
   ]
  },
  {
   "cell_type": "code",
   "execution_count": 6,
   "metadata": {},
   "outputs": [],
   "source": [
    "plt.close()"
   ]
  },
  {
   "cell_type": "code",
   "execution_count": 11,
   "metadata": {
    "scrolled": true
   },
   "outputs": [
    {
     "data": {
      "image/png": "[encoded data removed]",
      "text/plain": [
       "<Figure size 432x288 with 1 Axes>"
      ]
     },
     "metadata": {},
     "output_type": "display_data"
    }
   ],
   "source": [
    "sns.lineplot(data=dat.loc[384].TotVeh)\n",
    "plt.show()"
   ]
  },
  {
   "cell_type": "code",
   "execution_count": null,
   "metadata": {},
   "outputs": [],
   "source": []
  }
 ],
 "metadata": {
  "kernelspec": {
   "display_name": "Python 3",
   "language": "python",
   "name": "python3"
  },
  "language_info": {
   "codemirror_mode": {
    "name": "ipython",
    "version": 3
   },
   "file_extension": ".py",
   "mimetype": "text/x-python",
   "name": "python",
   "nbconvert_exporter": "python",
   "pygments_lexer": "ipython3",
   "version": "3.7.3"
  }
 },
 "nbformat": 4,
 "nbformat_minor": 2
}
